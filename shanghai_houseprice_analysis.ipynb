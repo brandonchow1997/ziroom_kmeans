{
 "cells": [
  {
   "cell_type": "markdown",
   "metadata": {},
   "source": [
    "# 读取数据"
   ]
  },
  {
   "cell_type": "code",
   "execution_count": 135,
   "metadata": {},
   "outputs": [],
   "source": [
    "import pymongo\n",
    "import pandas as pd\n",
    "import numpy as np\n",
    "from pandas import Series,DataFrame\n",
    "client = pymongo.MongoClient('localhost',27017)\n",
    "db  = client['Ziru_housing']\n",
    "table = db['Shanghai_Renting']\n",
    "data = pd.DataFrame(list(table.find()))\n",
    "del data['_id']"
   ]
  },
  {
   "cell_type": "code",
   "execution_count": 2,
   "metadata": {},
   "outputs": [
    {
     "data": {
      "text/html": [
       "<div>\n",
       "<style scoped>\n",
       "    .dataframe tbody tr th:only-of-type {\n",
       "        vertical-align: middle;\n",
       "    }\n",
       "\n",
       "    .dataframe tbody tr th {\n",
       "        vertical-align: top;\n",
       "    }\n",
       "\n",
       "    .dataframe thead th {\n",
       "        text-align: right;\n",
       "    }\n",
       "</style>\n",
       "<table border=\"1\" class=\"dataframe\">\n",
       "  <thead>\n",
       "    <tr style=\"text-align: right;\">\n",
       "      <th></th>\n",
       "      <th>area</th>\n",
       "      <th>district</th>\n",
       "      <th>metro</th>\n",
       "      <th>metro_distance</th>\n",
       "      <th>price</th>\n",
       "      <th>square</th>\n",
       "      <th>title</th>\n",
       "      <th>type</th>\n",
       "    </tr>\n",
       "  </thead>\n",
       "  <tbody>\n",
       "    <tr>\n",
       "      <th>0</th>\n",
       "      <td>42 ㎡06/6层2室1厅</td>\n",
       "      <td>徐汇</td>\n",
       "      <td>距3号线龙漕路站173米</td>\n",
       "      <td>173</td>\n",
       "      <td>4830</td>\n",
       "      <td>42</td>\n",
       "      <td>整租 · 上缝小区2居室-南</td>\n",
       "      <td>整租</td>\n",
       "    </tr>\n",
       "    <tr>\n",
       "      <th>1</th>\n",
       "      <td>68.65 ㎡06/6层2室1厅</td>\n",
       "      <td>徐汇</td>\n",
       "      <td>距11号线龙耀路站757米</td>\n",
       "      <td>757</td>\n",
       "      <td>5130</td>\n",
       "      <td>68.65</td>\n",
       "      <td>整租 · 滨江小区2居室-南</td>\n",
       "      <td>整租</td>\n",
       "    </tr>\n",
       "    <tr>\n",
       "      <th>2</th>\n",
       "      <td>30.37 ㎡06/6层1室1厅</td>\n",
       "      <td>徐汇</td>\n",
       "      <td>距4号线上海体育馆站236米</td>\n",
       "      <td>236</td>\n",
       "      <td>4690</td>\n",
       "      <td>30.37</td>\n",
       "      <td>整租 · 中原新村1居室-南</td>\n",
       "      <td>整租</td>\n",
       "    </tr>\n",
       "    <tr>\n",
       "      <th>3</th>\n",
       "      <td>49.15 ㎡01/6层2室1厅</td>\n",
       "      <td>徐汇</td>\n",
       "      <td>距3号线石龙路站243米</td>\n",
       "      <td>243</td>\n",
       "      <td>4790</td>\n",
       "      <td>49.15</td>\n",
       "      <td>整租 · 东泉小区2居室-南</td>\n",
       "      <td>整租</td>\n",
       "    </tr>\n",
       "    <tr>\n",
       "      <th>4</th>\n",
       "      <td>33.17 ㎡04/6层1室1厅</td>\n",
       "      <td>徐汇</td>\n",
       "      <td>距4号线东安路站488米</td>\n",
       "      <td>488</td>\n",
       "      <td>4490</td>\n",
       "      <td>33.17</td>\n",
       "      <td>整租 · 斜土路2200弄1居室-南</td>\n",
       "      <td>整租</td>\n",
       "    </tr>\n",
       "  </tbody>\n",
       "</table>\n",
       "</div>"
      ],
      "text/plain": [
       "               area district           metro metro_distance price square  \\\n",
       "0     42 ㎡06/6层2室1厅       徐汇    距3号线龙漕路站173米            173  4830     42   \n",
       "1  68.65 ㎡06/6层2室1厅       徐汇   距11号线龙耀路站757米            757  5130  68.65   \n",
       "2  30.37 ㎡06/6层1室1厅       徐汇  距4号线上海体育馆站236米            236  4690  30.37   \n",
       "3  49.15 ㎡01/6层2室1厅       徐汇    距3号线石龙路站243米            243  4790  49.15   \n",
       "4  33.17 ㎡04/6层1室1厅       徐汇    距4号线东安路站488米            488  4490  33.17   \n",
       "\n",
       "                title type  \n",
       "0      整租 · 上缝小区2居室-南   整租  \n",
       "1      整租 · 滨江小区2居室-南   整租  \n",
       "2      整租 · 中原新村1居室-南   整租  \n",
       "3      整租 · 东泉小区2居室-南   整租  \n",
       "4  整租 · 斜土路2200弄1居室-南   整租  "
      ]
     },
     "execution_count": 2,
     "metadata": {},
     "output_type": "execute_result"
    }
   ],
   "source": [
    "data.head()"
   ]
  },
  {
   "cell_type": "code",
   "execution_count": 3,
   "metadata": {},
   "outputs": [
    {
     "data": {
      "text/plain": [
       "(14652, 8)"
      ]
     },
     "execution_count": 3,
     "metadata": {},
     "output_type": "execute_result"
    }
   ],
   "source": [
    "data.shape\n",
    "#data[data['square']=='约13']"
   ]
  },
  {
   "cell_type": "markdown",
   "metadata": {},
   "source": [
    "---"
   ]
  },
  {
   "cell_type": "markdown",
   "metadata": {},
   "source": [
    "---"
   ]
  },
  {
   "cell_type": "markdown",
   "metadata": {},
   "source": [
    "# 正则提取float"
   ]
  },
  {
   "cell_type": "code",
   "execution_count": 4,
   "metadata": {},
   "outputs": [],
   "source": [
    "import re\n",
    "def square(num):\n",
    "    # 取薪资均值----------------\n",
    "    pattern = re.compile('[1-9]\\d*.\\d*|0.\\d*[1-9]\\d*')\n",
    "    temp = num\n",
    "    res = re.findall(pattern, temp)\n",
    "    result = 0\n",
    "    for i in res:\n",
    "        result = float(i)\n",
    "    # 函数返回值\n",
    "    return result\n",
    "\n",
    "square_list = []\n",
    "metro_list = []\n",
    "for i in range(0,14652):\n",
    "    square_num = square(data['square'][i])\n",
    "    metro_num =  square(data['metro_distance'][i])\n",
    "    square_list.append(square_num)\n",
    "    metro_list.append(metro_num)\n",
    "#print(square_list)"
   ]
  },
  {
   "cell_type": "code",
   "execution_count": 5,
   "metadata": {},
   "outputs": [],
   "source": [
    "sq = Series(square_list)\n",
    "md = Series(metro_list)\n",
    "data.insert(6,'S',sq)\n",
    "data.insert(4,'metro_num',md)"
   ]
  },
  {
   "cell_type": "code",
   "execution_count": 6,
   "metadata": {
    "scrolled": true
   },
   "outputs": [
    {
     "data": {
      "text/html": [
       "<div>\n",
       "<style scoped>\n",
       "    .dataframe tbody tr th:only-of-type {\n",
       "        vertical-align: middle;\n",
       "    }\n",
       "\n",
       "    .dataframe tbody tr th {\n",
       "        vertical-align: top;\n",
       "    }\n",
       "\n",
       "    .dataframe thead th {\n",
       "        text-align: right;\n",
       "    }\n",
       "</style>\n",
       "<table border=\"1\" class=\"dataframe\">\n",
       "  <thead>\n",
       "    <tr style=\"text-align: right;\">\n",
       "      <th></th>\n",
       "      <th>area</th>\n",
       "      <th>district</th>\n",
       "      <th>metro</th>\n",
       "      <th>metro_distance</th>\n",
       "      <th>metro_num</th>\n",
       "      <th>price</th>\n",
       "      <th>square</th>\n",
       "      <th>S</th>\n",
       "      <th>title</th>\n",
       "      <th>type</th>\n",
       "    </tr>\n",
       "  </thead>\n",
       "  <tbody>\n",
       "    <tr>\n",
       "      <th>0</th>\n",
       "      <td>42 ㎡06/6层2室1厅</td>\n",
       "      <td>徐汇</td>\n",
       "      <td>距3号线龙漕路站173米</td>\n",
       "      <td>173</td>\n",
       "      <td>173.0</td>\n",
       "      <td>4830</td>\n",
       "      <td>42</td>\n",
       "      <td>42.00</td>\n",
       "      <td>整租 · 上缝小区2居室-南</td>\n",
       "      <td>整租</td>\n",
       "    </tr>\n",
       "    <tr>\n",
       "      <th>1</th>\n",
       "      <td>68.65 ㎡06/6层2室1厅</td>\n",
       "      <td>徐汇</td>\n",
       "      <td>距11号线龙耀路站757米</td>\n",
       "      <td>757</td>\n",
       "      <td>757.0</td>\n",
       "      <td>5130</td>\n",
       "      <td>68.65</td>\n",
       "      <td>68.65</td>\n",
       "      <td>整租 · 滨江小区2居室-南</td>\n",
       "      <td>整租</td>\n",
       "    </tr>\n",
       "    <tr>\n",
       "      <th>2</th>\n",
       "      <td>30.37 ㎡06/6层1室1厅</td>\n",
       "      <td>徐汇</td>\n",
       "      <td>距4号线上海体育馆站236米</td>\n",
       "      <td>236</td>\n",
       "      <td>236.0</td>\n",
       "      <td>4690</td>\n",
       "      <td>30.37</td>\n",
       "      <td>30.37</td>\n",
       "      <td>整租 · 中原新村1居室-南</td>\n",
       "      <td>整租</td>\n",
       "    </tr>\n",
       "    <tr>\n",
       "      <th>3</th>\n",
       "      <td>49.15 ㎡01/6层2室1厅</td>\n",
       "      <td>徐汇</td>\n",
       "      <td>距3号线石龙路站243米</td>\n",
       "      <td>243</td>\n",
       "      <td>243.0</td>\n",
       "      <td>4790</td>\n",
       "      <td>49.15</td>\n",
       "      <td>49.15</td>\n",
       "      <td>整租 · 东泉小区2居室-南</td>\n",
       "      <td>整租</td>\n",
       "    </tr>\n",
       "    <tr>\n",
       "      <th>4</th>\n",
       "      <td>33.17 ㎡04/6层1室1厅</td>\n",
       "      <td>徐汇</td>\n",
       "      <td>距4号线东安路站488米</td>\n",
       "      <td>488</td>\n",
       "      <td>488.0</td>\n",
       "      <td>4490</td>\n",
       "      <td>33.17</td>\n",
       "      <td>33.17</td>\n",
       "      <td>整租 · 斜土路2200弄1居室-南</td>\n",
       "      <td>整租</td>\n",
       "    </tr>\n",
       "  </tbody>\n",
       "</table>\n",
       "</div>"
      ],
      "text/plain": [
       "               area district           metro metro_distance  metro_num price  \\\n",
       "0     42 ㎡06/6层2室1厅       徐汇    距3号线龙漕路站173米            173      173.0  4830   \n",
       "1  68.65 ㎡06/6层2室1厅       徐汇   距11号线龙耀路站757米            757      757.0  5130   \n",
       "2  30.37 ㎡06/6层1室1厅       徐汇  距4号线上海体育馆站236米            236      236.0  4690   \n",
       "3  49.15 ㎡01/6层2室1厅       徐汇    距3号线石龙路站243米            243      243.0  4790   \n",
       "4  33.17 ㎡04/6层1室1厅       徐汇    距4号线东安路站488米            488      488.0  4490   \n",
       "\n",
       "  square      S               title type  \n",
       "0     42  42.00      整租 · 上缝小区2居室-南   整租  \n",
       "1  68.65  68.65      整租 · 滨江小区2居室-南   整租  \n",
       "2  30.37  30.37      整租 · 中原新村1居室-南   整租  \n",
       "3  49.15  49.15      整租 · 东泉小区2居室-南   整租  \n",
       "4  33.17  33.17  整租 · 斜土路2200弄1居室-南   整租  "
      ]
     },
     "execution_count": 6,
     "metadata": {},
     "output_type": "execute_result"
    }
   ],
   "source": [
    "data.head()"
   ]
  },
  {
   "cell_type": "markdown",
   "metadata": {},
   "source": [
    "---"
   ]
  },
  {
   "cell_type": "markdown",
   "metadata": {},
   "source": [
    "# 去重"
   ]
  },
  {
   "cell_type": "code",
   "execution_count": 7,
   "metadata": {},
   "outputs": [
    {
     "data": {
      "text/plain": [
       "(14453, 10)"
      ]
     },
     "execution_count": 7,
     "metadata": {},
     "output_type": "execute_result"
    }
   ],
   "source": [
    "data = data.drop_duplicates()\n",
    "data.shape"
   ]
  },
  {
   "cell_type": "markdown",
   "metadata": {},
   "source": [
    "---"
   ]
  },
  {
   "cell_type": "markdown",
   "metadata": {},
   "source": [
    "# 替换值"
   ]
  },
  {
   "cell_type": "code",
   "execution_count": 8,
   "metadata": {},
   "outputs": [],
   "source": [
    "data['metro_num'] = data['metro_num'].replace(0,np.nan)\n",
    "data['price'] = data['price'].replace(0,np.nan)\n",
    "data['square'] = data['square'].replace(0,np.nan)"
   ]
  },
  {
   "cell_type": "code",
   "execution_count": 9,
   "metadata": {},
   "outputs": [],
   "source": [
    "#data[data['metro_num']==np.nan]\n",
    "data['price'] = pd.to_numeric(data['price'])"
   ]
  },
  {
   "cell_type": "markdown",
   "metadata": {},
   "source": [
    "## 将按天付款的房源价格乘以30"
   ]
  },
  {
   "cell_type": "code",
   "execution_count": 10,
   "metadata": {},
   "outputs": [],
   "source": [
    "data['mon_price'] = data['price'] \n",
    "data.loc[data['price']<600,'mon_price'] *= 30        # 关键句"
   ]
  },
  {
   "cell_type": "code",
   "execution_count": 11,
   "metadata": {},
   "outputs": [],
   "source": [
    "data = data.dropna()"
   ]
  },
  {
   "cell_type": "code",
   "execution_count": 12,
   "metadata": {},
   "outputs": [
    {
     "data": {
      "text/plain": [
       "(14034, 11)"
      ]
     },
     "execution_count": 12,
     "metadata": {},
     "output_type": "execute_result"
    }
   ],
   "source": [
    "data.shape"
   ]
  },
  {
   "cell_type": "markdown",
   "metadata": {},
   "source": [
    "---"
   ]
  },
  {
   "cell_type": "markdown",
   "metadata": {},
   "source": [
    "# 输出到csv"
   ]
  },
  {
   "cell_type": "code",
   "execution_count": 13,
   "metadata": {},
   "outputs": [],
   "source": [
    "data.to_csv('housing_shanghai.csv')"
   ]
  },
  {
   "cell_type": "markdown",
   "metadata": {},
   "source": [
    "---"
   ]
  },
  {
   "cell_type": "markdown",
   "metadata": {},
   "source": [
    "# 准备数据"
   ]
  },
  {
   "cell_type": "code",
   "execution_count": 88,
   "metadata": {},
   "outputs": [],
   "source": [
    "housing = data.copy()"
   ]
  },
  {
   "cell_type": "code",
   "execution_count": 89,
   "metadata": {},
   "outputs": [
    {
     "data": {
      "text/plain": [
       "(14034, 11)"
      ]
     },
     "execution_count": 89,
     "metadata": {},
     "output_type": "execute_result"
    }
   ],
   "source": [
    "housing.shape"
   ]
  },
  {
   "cell_type": "code",
   "execution_count": 90,
   "metadata": {},
   "outputs": [],
   "source": [
    "housing['mon_price'] = pd.to_numeric(housing['mon_price'])"
   ]
  },
  {
   "cell_type": "code",
   "execution_count": 91,
   "metadata": {
    "scrolled": true
   },
   "outputs": [
    {
     "data": {
      "text/html": [
       "<div>\n",
       "<style scoped>\n",
       "    .dataframe tbody tr th:only-of-type {\n",
       "        vertical-align: middle;\n",
       "    }\n",
       "\n",
       "    .dataframe tbody tr th {\n",
       "        vertical-align: top;\n",
       "    }\n",
       "\n",
       "    .dataframe thead th {\n",
       "        text-align: right;\n",
       "    }\n",
       "</style>\n",
       "<table border=\"1\" class=\"dataframe\">\n",
       "  <thead>\n",
       "    <tr style=\"text-align: right;\">\n",
       "      <th></th>\n",
       "      <th>district</th>\n",
       "      <th>type</th>\n",
       "      <th>metro_num</th>\n",
       "      <th>S</th>\n",
       "      <th>mon_price</th>\n",
       "    </tr>\n",
       "  </thead>\n",
       "  <tbody>\n",
       "    <tr>\n",
       "      <th>0</th>\n",
       "      <td>徐汇</td>\n",
       "      <td>整租</td>\n",
       "      <td>173.0</td>\n",
       "      <td>42.00</td>\n",
       "      <td>4830</td>\n",
       "    </tr>\n",
       "    <tr>\n",
       "      <th>1</th>\n",
       "      <td>徐汇</td>\n",
       "      <td>整租</td>\n",
       "      <td>757.0</td>\n",
       "      <td>68.65</td>\n",
       "      <td>5130</td>\n",
       "    </tr>\n",
       "    <tr>\n",
       "      <th>2</th>\n",
       "      <td>徐汇</td>\n",
       "      <td>整租</td>\n",
       "      <td>236.0</td>\n",
       "      <td>30.37</td>\n",
       "      <td>4690</td>\n",
       "    </tr>\n",
       "    <tr>\n",
       "      <th>3</th>\n",
       "      <td>徐汇</td>\n",
       "      <td>整租</td>\n",
       "      <td>243.0</td>\n",
       "      <td>49.15</td>\n",
       "      <td>4790</td>\n",
       "    </tr>\n",
       "    <tr>\n",
       "      <th>4</th>\n",
       "      <td>徐汇</td>\n",
       "      <td>整租</td>\n",
       "      <td>488.0</td>\n",
       "      <td>33.17</td>\n",
       "      <td>4490</td>\n",
       "    </tr>\n",
       "  </tbody>\n",
       "</table>\n",
       "</div>"
      ],
      "text/plain": [
       "  district type  metro_num      S  mon_price\n",
       "0       徐汇   整租      173.0  42.00       4830\n",
       "1       徐汇   整租      757.0  68.65       5130\n",
       "2       徐汇   整租      236.0  30.37       4690\n",
       "3       徐汇   整租      243.0  49.15       4790\n",
       "4       徐汇   整租      488.0  33.17       4490"
      ]
     },
     "execution_count": 91,
     "metadata": {},
     "output_type": "execute_result"
    }
   ],
   "source": [
    "housing = housing[['district','type','metro_num','S','mon_price']]\n",
    "housing.head()"
   ]
  },
  {
   "cell_type": "code",
   "execution_count": 92,
   "metadata": {},
   "outputs": [
    {
     "data": {
      "text/html": [
       "<div>\n",
       "<style scoped>\n",
       "    .dataframe tbody tr th:only-of-type {\n",
       "        vertical-align: middle;\n",
       "    }\n",
       "\n",
       "    .dataframe tbody tr th {\n",
       "        vertical-align: top;\n",
       "    }\n",
       "\n",
       "    .dataframe thead th {\n",
       "        text-align: right;\n",
       "    }\n",
       "</style>\n",
       "<table border=\"1\" class=\"dataframe\">\n",
       "  <thead>\n",
       "    <tr style=\"text-align: right;\">\n",
       "      <th></th>\n",
       "      <th>metro_num</th>\n",
       "      <th>S</th>\n",
       "      <th>mon_price</th>\n",
       "    </tr>\n",
       "  </thead>\n",
       "  <tbody>\n",
       "    <tr>\n",
       "      <th>0</th>\n",
       "      <td>173.0</td>\n",
       "      <td>42.00</td>\n",
       "      <td>4830</td>\n",
       "    </tr>\n",
       "    <tr>\n",
       "      <th>1</th>\n",
       "      <td>757.0</td>\n",
       "      <td>68.65</td>\n",
       "      <td>5130</td>\n",
       "    </tr>\n",
       "    <tr>\n",
       "      <th>2</th>\n",
       "      <td>236.0</td>\n",
       "      <td>30.37</td>\n",
       "      <td>4690</td>\n",
       "    </tr>\n",
       "    <tr>\n",
       "      <th>3</th>\n",
       "      <td>243.0</td>\n",
       "      <td>49.15</td>\n",
       "      <td>4790</td>\n",
       "    </tr>\n",
       "    <tr>\n",
       "      <th>4</th>\n",
       "      <td>488.0</td>\n",
       "      <td>33.17</td>\n",
       "      <td>4490</td>\n",
       "    </tr>\n",
       "  </tbody>\n",
       "</table>\n",
       "</div>"
      ],
      "text/plain": [
       "   metro_num      S  mon_price\n",
       "0      173.0  42.00       4830\n",
       "1      757.0  68.65       5130\n",
       "2      236.0  30.37       4690\n",
       "3      243.0  49.15       4790\n",
       "4      488.0  33.17       4490"
      ]
     },
     "execution_count": 92,
     "metadata": {},
     "output_type": "execute_result"
    }
   ],
   "source": [
    "housing_num = housing[['metro_num','S','mon_price']]\n",
    "housing_num.head()"
   ]
  },
  {
   "cell_type": "code",
   "execution_count": 93,
   "metadata": {},
   "outputs": [
    {
     "data": {
      "text/html": [
       "<div>\n",
       "<style scoped>\n",
       "    .dataframe tbody tr th:only-of-type {\n",
       "        vertical-align: middle;\n",
       "    }\n",
       "\n",
       "    .dataframe tbody tr th {\n",
       "        vertical-align: top;\n",
       "    }\n",
       "\n",
       "    .dataframe thead th {\n",
       "        text-align: right;\n",
       "    }\n",
       "</style>\n",
       "<table border=\"1\" class=\"dataframe\">\n",
       "  <thead>\n",
       "    <tr style=\"text-align: right;\">\n",
       "      <th></th>\n",
       "      <th>district</th>\n",
       "      <th>type</th>\n",
       "    </tr>\n",
       "  </thead>\n",
       "  <tbody>\n",
       "    <tr>\n",
       "      <th>0</th>\n",
       "      <td>徐汇</td>\n",
       "      <td>整租</td>\n",
       "    </tr>\n",
       "    <tr>\n",
       "      <th>1</th>\n",
       "      <td>徐汇</td>\n",
       "      <td>整租</td>\n",
       "    </tr>\n",
       "    <tr>\n",
       "      <th>2</th>\n",
       "      <td>徐汇</td>\n",
       "      <td>整租</td>\n",
       "    </tr>\n",
       "    <tr>\n",
       "      <th>3</th>\n",
       "      <td>徐汇</td>\n",
       "      <td>整租</td>\n",
       "    </tr>\n",
       "    <tr>\n",
       "      <th>4</th>\n",
       "      <td>徐汇</td>\n",
       "      <td>整租</td>\n",
       "    </tr>\n",
       "  </tbody>\n",
       "</table>\n",
       "</div>"
      ],
      "text/plain": [
       "  district type\n",
       "0       徐汇   整租\n",
       "1       徐汇   整租\n",
       "2       徐汇   整租\n",
       "3       徐汇   整租\n",
       "4       徐汇   整租"
      ]
     },
     "execution_count": 93,
     "metadata": {},
     "output_type": "execute_result"
    }
   ],
   "source": [
    "housing_cat = housing[['district','type']]\n",
    "housing_cat.head()"
   ]
  },
  {
   "cell_type": "markdown",
   "metadata": {},
   "source": [
    "---"
   ]
  },
  {
   "cell_type": "markdown",
   "metadata": {},
   "source": [
    "# 流水线"
   ]
  },
  {
   "cell_type": "markdown",
   "metadata": {},
   "source": [
    "## 特征缩放"
   ]
  },
  {
   "cell_type": "code",
   "execution_count": 94,
   "metadata": {},
   "outputs": [
    {
     "name": "stderr",
     "output_type": "stream",
     "text": [
      "C:\\Users\\13626\\Anaconda3\\lib\\site-packages\\sklearn\\utils\\deprecation.py:58: DeprecationWarning: Class Imputer is deprecated; Imputer was deprecated in version 0.20 and will be removed in 0.22. Import impute.SimpleImputer from sklearn instead.\n",
      "  warnings.warn(msg, category=DeprecationWarning)\n"
     ]
    }
   ],
   "source": [
    "from sklearn.pipeline import Pipeline\n",
    "from sklearn.preprocessing import StandardScaler\n",
    "from sklearn.preprocessing import OneHotEncoder\n",
    "from sklearn.preprocessing import Imputer\n",
    "\n",
    "num_pipeline = Pipeline([\n",
    "        ('imputer', Imputer(strategy=\"median\")),\n",
    "        ('std_scaler', StandardScaler())\n",
    "    ])"
   ]
  },
  {
   "cell_type": "code",
   "execution_count": 95,
   "metadata": {},
   "outputs": [
    {
     "name": "stderr",
     "output_type": "stream",
     "text": [
      "C:\\Users\\13626\\Anaconda3\\lib\\site-packages\\sklearn\\preprocessing\\data.py:617: DataConversionWarning: Data with input dtype int64, float64 were all converted to float64 by StandardScaler.\n",
      "  return self.partial_fit(X, y)\n",
      "C:\\Users\\13626\\Anaconda3\\lib\\site-packages\\sklearn\\base.py:462: DataConversionWarning: Data with input dtype int64, float64 were all converted to float64 by StandardScaler.\n",
      "  return self.fit(X, **fit_params).transform(X)\n"
     ]
    },
    {
     "data": {
      "text/plain": [
       "array([[ 173.  ,   42.  , 4830.  ],\n",
       "       [ 757.  ,   68.65, 5130.  ],\n",
       "       [ 236.  ,   30.37, 4690.  ],\n",
       "       [ 243.  ,   49.15, 4790.  ],\n",
       "       [ 488.  ,   33.17, 4490.  ]])"
      ]
     },
     "execution_count": 95,
     "metadata": {},
     "output_type": "execute_result"
    }
   ],
   "source": [
    "ss=StandardScaler()\n",
    "housing_num_tr = ss.fit_transform(housing_num)\n",
    "ss.inverse_transform(housing_num_tr,copy=True)[:5]"
   ]
  },
  {
   "cell_type": "markdown",
   "metadata": {},
   "source": [
    "## 数值和类别的流水线"
   ]
  },
  {
   "cell_type": "code",
   "execution_count": 96,
   "metadata": {},
   "outputs": [],
   "source": [
    "from sklearn.compose import ColumnTransformer"
   ]
  },
  {
   "cell_type": "code",
   "execution_count": 97,
   "metadata": {},
   "outputs": [
    {
     "name": "stderr",
     "output_type": "stream",
     "text": [
      "C:\\Users\\13626\\Anaconda3\\lib\\site-packages\\sklearn\\utils\\deprecation.py:58: DeprecationWarning: Class Imputer is deprecated; Imputer was deprecated in version 0.20 and will be removed in 0.22. Import impute.SimpleImputer from sklearn instead.\n",
      "  warnings.warn(msg, category=DeprecationWarning)\n"
     ]
    }
   ],
   "source": [
    "num_attribs = list(housing_num)\n",
    "cat_attribs = ['district','type']\n",
    "\n",
    "full_pipeline = ColumnTransformer([\n",
    "    (\"num\", num_pipeline, num_attribs),\n",
    "    (\"cat\", OneHotEncoder(), cat_attribs),\n",
    "    ])\n",
    "\n",
    "housing_prepared = full_pipeline.fit_transform(housing).toarray()"
   ]
  },
  {
   "cell_type": "code",
   "execution_count": 98,
   "metadata": {},
   "outputs": [
    {
     "data": {
      "text/plain": [
       "array([[-1.26863157,  1.14766383,  1.46682065, ...,  0.        ,\n",
       "         0.        ,  1.        ],\n",
       "       [-0.11263402,  2.55204439,  1.67270329, ...,  0.        ,\n",
       "         0.        ,  1.        ],\n",
       "       [-1.14392635,  0.53479532,  1.37074209, ...,  0.        ,\n",
       "         0.        ,  1.        ],\n",
       "       ...,\n",
       "       [ 1.50061597, -0.5175679 , -0.64004503, ...,  0.        ,\n",
       "         1.        ,  0.        ],\n",
       "       [-0.3224555 , -1.06561885, -0.61945677, ...,  0.        ,\n",
       "         1.        ,  0.        ],\n",
       "       [ 0.00811229, -0.6176926 , -0.77730012, ...,  0.        ,\n",
       "         1.        ,  0.        ]])"
      ]
     },
     "execution_count": 98,
     "metadata": {},
     "output_type": "execute_result"
    }
   ],
   "source": [
    "housing_prepared"
   ]
  },
  {
   "cell_type": "markdown",
   "metadata": {},
   "source": [
    "---"
   ]
  },
  {
   "cell_type": "markdown",
   "metadata": {},
   "source": [
    "# 聚类"
   ]
  },
  {
   "cell_type": "code",
   "execution_count": 99,
   "metadata": {},
   "outputs": [
    {
     "data": {
      "text/plain": [
       "KMeans(algorithm='auto', copy_x=True, init='k-means++', max_iter=300,\n",
       "    n_clusters=5, n_init=10, n_jobs=4, precompute_distances='auto',\n",
       "    random_state=None, tol=0.0001, verbose=0)"
      ]
     },
     "execution_count": 99,
     "metadata": {},
     "output_type": "execute_result"
    }
   ],
   "source": [
    "from sklearn.cluster import KMeans # 导入Kmeans\n",
    "k=5 # 聚类类别数\n",
    "kmodel = KMeans(n_clusters=k, n_jobs=4)\n",
    "kmodel.fit(housing_prepared)"
   ]
  },
  {
   "cell_type": "markdown",
   "metadata": {},
   "source": [
    "## 聚类结果的前三列"
   ]
  },
  {
   "cell_type": "code",
   "execution_count": 100,
   "metadata": {},
   "outputs": [
    {
     "data": {
      "text/plain": [
       "array([[-0.31836645,  1.36617675,  1.26256451],\n",
       "       [ 1.6756617 , -0.37700987, -0.61895916],\n",
       "       [ 0.17679781, -0.42650547, -0.51328037],\n",
       "       [-0.82708043, -0.40927334, -0.11960873],\n",
       "       [-0.26395918,  3.19848615,  2.86549821]])"
      ]
     },
     "execution_count": 100,
     "metadata": {},
     "output_type": "execute_result"
    }
   ],
   "source": [
    "kmodel.cluster_centers_[0:5,:3]"
   ]
  },
  {
   "cell_type": "markdown",
   "metadata": {},
   "source": [
    "## 聚类结果反特征缩放"
   ]
  },
  {
   "cell_type": "code",
   "execution_count": 101,
   "metadata": {
    "scrolled": true
   },
   "outputs": [
    {
     "data": {
      "text/plain": [
       "array([[ 653.06574924,   46.14657492, 4532.37003058],\n",
       "       [1660.43159258,   13.06727665, 1790.72507553],\n",
       "       [ 903.21846847,   12.12803153, 1944.71396396],\n",
       "       [ 396.06783276,   12.45503413, 2518.34897611],\n",
       "       [ 680.55183413,   80.91709729, 6868.07017544]])"
      ]
     },
     "execution_count": 101,
     "metadata": {},
     "output_type": "execute_result"
    }
   ],
   "source": [
    "ss.inverse_transform(kmodel.cluster_centers_[0:5,:3],copy=True)"
   ]
  },
  {
   "cell_type": "markdown",
   "metadata": {},
   "source": [
    "分别为：距离地铁的距离，面积，价格"
   ]
  },
  {
   "cell_type": "markdown",
   "metadata": {},
   "source": [
    "---"
   ]
  },
  {
   "cell_type": "markdown",
   "metadata": {},
   "source": [
    "## 将聚类类别插入DataFrame"
   ]
  },
  {
   "cell_type": "code",
   "execution_count": 102,
   "metadata": {},
   "outputs": [
    {
     "data": {
      "text/html": [
       "<div>\n",
       "<style scoped>\n",
       "    .dataframe tbody tr th:only-of-type {\n",
       "        vertical-align: middle;\n",
       "    }\n",
       "\n",
       "    .dataframe tbody tr th {\n",
       "        vertical-align: top;\n",
       "    }\n",
       "\n",
       "    .dataframe thead th {\n",
       "        text-align: right;\n",
       "    }\n",
       "</style>\n",
       "<table border=\"1\" class=\"dataframe\">\n",
       "  <thead>\n",
       "    <tr style=\"text-align: right;\">\n",
       "      <th></th>\n",
       "      <th>district</th>\n",
       "      <th>type</th>\n",
       "      <th>metro_num</th>\n",
       "      <th>S</th>\n",
       "      <th>mon_price</th>\n",
       "    </tr>\n",
       "  </thead>\n",
       "  <tbody>\n",
       "    <tr>\n",
       "      <th>0</th>\n",
       "      <td>徐汇</td>\n",
       "      <td>整租</td>\n",
       "      <td>173.0</td>\n",
       "      <td>42.0</td>\n",
       "      <td>4830</td>\n",
       "    </tr>\n",
       "  </tbody>\n",
       "</table>\n",
       "</div>"
      ],
      "text/plain": [
       "  district type  metro_num     S  mon_price\n",
       "0       徐汇   整租      173.0  42.0       4830"
      ]
     },
     "execution_count": 102,
     "metadata": {},
     "output_type": "execute_result"
    }
   ],
   "source": [
    "housing_data = housing.copy()\n",
    "housing_data.head(1)"
   ]
  },
  {
   "cell_type": "code",
   "execution_count": 103,
   "metadata": {},
   "outputs": [],
   "source": [
    "label = Series(kmodel.labels_,index=housing_data.index)\n",
    "\n",
    "housing_data.insert(5,'聚类类别',label)\n",
    "#kmeans_job"
   ]
  },
  {
   "cell_type": "code",
   "execution_count": 104,
   "metadata": {
    "scrolled": true
   },
   "outputs": [
    {
     "data": {
      "text/html": [
       "<div>\n",
       "<style scoped>\n",
       "    .dataframe tbody tr th:only-of-type {\n",
       "        vertical-align: middle;\n",
       "    }\n",
       "\n",
       "    .dataframe tbody tr th {\n",
       "        vertical-align: top;\n",
       "    }\n",
       "\n",
       "    .dataframe thead th {\n",
       "        text-align: right;\n",
       "    }\n",
       "</style>\n",
       "<table border=\"1\" class=\"dataframe\">\n",
       "  <thead>\n",
       "    <tr style=\"text-align: right;\">\n",
       "      <th></th>\n",
       "      <th>district</th>\n",
       "      <th>type</th>\n",
       "      <th>metro_num</th>\n",
       "      <th>S</th>\n",
       "      <th>mon_price</th>\n",
       "      <th>聚类类别</th>\n",
       "    </tr>\n",
       "  </thead>\n",
       "  <tbody>\n",
       "    <tr>\n",
       "      <th>0</th>\n",
       "      <td>徐汇</td>\n",
       "      <td>整租</td>\n",
       "      <td>173.0</td>\n",
       "      <td>42.00</td>\n",
       "      <td>4830</td>\n",
       "      <td>0</td>\n",
       "    </tr>\n",
       "    <tr>\n",
       "      <th>1</th>\n",
       "      <td>徐汇</td>\n",
       "      <td>整租</td>\n",
       "      <td>757.0</td>\n",
       "      <td>68.65</td>\n",
       "      <td>5130</td>\n",
       "      <td>0</td>\n",
       "    </tr>\n",
       "    <tr>\n",
       "      <th>2</th>\n",
       "      <td>徐汇</td>\n",
       "      <td>整租</td>\n",
       "      <td>236.0</td>\n",
       "      <td>30.37</td>\n",
       "      <td>4690</td>\n",
       "      <td>0</td>\n",
       "    </tr>\n",
       "    <tr>\n",
       "      <th>3</th>\n",
       "      <td>徐汇</td>\n",
       "      <td>整租</td>\n",
       "      <td>243.0</td>\n",
       "      <td>49.15</td>\n",
       "      <td>4790</td>\n",
       "      <td>0</td>\n",
       "    </tr>\n",
       "    <tr>\n",
       "      <th>4</th>\n",
       "      <td>徐汇</td>\n",
       "      <td>整租</td>\n",
       "      <td>488.0</td>\n",
       "      <td>33.17</td>\n",
       "      <td>4490</td>\n",
       "      <td>0</td>\n",
       "    </tr>\n",
       "  </tbody>\n",
       "</table>\n",
       "</div>"
      ],
      "text/plain": [
       "  district type  metro_num      S  mon_price  聚类类别\n",
       "0       徐汇   整租      173.0  42.00       4830     0\n",
       "1       徐汇   整租      757.0  68.65       5130     0\n",
       "2       徐汇   整租      236.0  30.37       4690     0\n",
       "3       徐汇   整租      243.0  49.15       4790     0\n",
       "4       徐汇   整租      488.0  33.17       4490     0"
      ]
     },
     "execution_count": 104,
     "metadata": {},
     "output_type": "execute_result"
    }
   ],
   "source": [
    "housing_data.head()"
   ]
  },
  {
   "cell_type": "markdown",
   "metadata": {},
   "source": [
    "---"
   ]
  },
  {
   "cell_type": "markdown",
   "metadata": {},
   "source": [
    "## 转换为房屋等级"
   ]
  },
  {
   "cell_type": "code",
   "execution_count": 105,
   "metadata": {},
   "outputs": [],
   "source": [
    "c = pd.DataFrame(kmodel.cluster_centers_).sort_values(2)\n",
    "c['房屋等级']=['交通不便普通','交通一般普通','交通便利普通','高端房源','豪宅']\n",
    "#c"
   ]
  },
  {
   "cell_type": "code",
   "execution_count": 106,
   "metadata": {},
   "outputs": [],
   "source": [
    "labels = c\n",
    "# 高价值\n",
    "expensive = labels[labels['房屋等级']=='豪宅'].index[0]\n",
    "high = labels[labels['房屋等级']=='高端房源'].index[0]\n",
    "mid = labels[labels['房屋等级']=='交通便利普通'].index[0]\n",
    "normal = labels[labels['房屋等级']=='交通一般普通'].index[0]\n",
    "low = labels[labels['房屋等级']=='交通不便普通'].index[0]\n",
    "#print(expensive,high,mid,low)"
   ]
  },
  {
   "cell_type": "code",
   "execution_count": 107,
   "metadata": {},
   "outputs": [],
   "source": [
    "kmeans_type_shift = {\n",
    "    expensive:'豪宅',\n",
    "    high:'高端房源',\n",
    "    mid:'交通便利普通',\n",
    "    normal:'交通一般普通',\n",
    "    low:'交通不便普通'\n",
    "}\n",
    "housing_data['聚类类别'] = housing_data['聚类类别'].map(kmeans_type_shift)"
   ]
  },
  {
   "cell_type": "code",
   "execution_count": 108,
   "metadata": {
    "scrolled": false
   },
   "outputs": [
    {
     "data": {
      "text/html": [
       "<div>\n",
       "<style scoped>\n",
       "    .dataframe tbody tr th:only-of-type {\n",
       "        vertical-align: middle;\n",
       "    }\n",
       "\n",
       "    .dataframe tbody tr th {\n",
       "        vertical-align: top;\n",
       "    }\n",
       "\n",
       "    .dataframe thead th {\n",
       "        text-align: right;\n",
       "    }\n",
       "</style>\n",
       "<table border=\"1\" class=\"dataframe\">\n",
       "  <thead>\n",
       "    <tr style=\"text-align: right;\">\n",
       "      <th></th>\n",
       "      <th>district</th>\n",
       "      <th>type</th>\n",
       "      <th>metro_num</th>\n",
       "      <th>S</th>\n",
       "      <th>mon_price</th>\n",
       "      <th>聚类类别</th>\n",
       "    </tr>\n",
       "  </thead>\n",
       "  <tbody>\n",
       "    <tr>\n",
       "      <th>0</th>\n",
       "      <td>徐汇</td>\n",
       "      <td>整租</td>\n",
       "      <td>173.0</td>\n",
       "      <td>42.00</td>\n",
       "      <td>4830</td>\n",
       "      <td>高端房源</td>\n",
       "    </tr>\n",
       "    <tr>\n",
       "      <th>1</th>\n",
       "      <td>徐汇</td>\n",
       "      <td>整租</td>\n",
       "      <td>757.0</td>\n",
       "      <td>68.65</td>\n",
       "      <td>5130</td>\n",
       "      <td>高端房源</td>\n",
       "    </tr>\n",
       "    <tr>\n",
       "      <th>2</th>\n",
       "      <td>徐汇</td>\n",
       "      <td>整租</td>\n",
       "      <td>236.0</td>\n",
       "      <td>30.37</td>\n",
       "      <td>4690</td>\n",
       "      <td>高端房源</td>\n",
       "    </tr>\n",
       "    <tr>\n",
       "      <th>3</th>\n",
       "      <td>徐汇</td>\n",
       "      <td>整租</td>\n",
       "      <td>243.0</td>\n",
       "      <td>49.15</td>\n",
       "      <td>4790</td>\n",
       "      <td>高端房源</td>\n",
       "    </tr>\n",
       "    <tr>\n",
       "      <th>4</th>\n",
       "      <td>徐汇</td>\n",
       "      <td>整租</td>\n",
       "      <td>488.0</td>\n",
       "      <td>33.17</td>\n",
       "      <td>4490</td>\n",
       "      <td>高端房源</td>\n",
       "    </tr>\n",
       "  </tbody>\n",
       "</table>\n",
       "</div>"
      ],
      "text/plain": [
       "  district type  metro_num      S  mon_price  聚类类别\n",
       "0       徐汇   整租      173.0  42.00       4830  高端房源\n",
       "1       徐汇   整租      757.0  68.65       5130  高端房源\n",
       "2       徐汇   整租      236.0  30.37       4690  高端房源\n",
       "3       徐汇   整租      243.0  49.15       4790  高端房源\n",
       "4       徐汇   整租      488.0  33.17       4490  高端房源"
      ]
     },
     "execution_count": 108,
     "metadata": {},
     "output_type": "execute_result"
    }
   ],
   "source": [
    "housing_data.head()"
   ]
  },
  {
   "cell_type": "markdown",
   "metadata": {},
   "source": [
    "---"
   ]
  },
  {
   "cell_type": "code",
   "execution_count": 115,
   "metadata": {},
   "outputs": [
    {
     "data": {
      "text/plain": [
       "(14034, 6)"
      ]
     },
     "execution_count": 115,
     "metadata": {},
     "output_type": "execute_result"
    }
   ],
   "source": [
    "housing_data.shape\n",
    "#housing_data.info()"
   ]
  },
  {
   "cell_type": "markdown",
   "metadata": {},
   "source": [
    "---"
   ]
  },
  {
   "cell_type": "markdown",
   "metadata": {},
   "source": [
    "# 聚类后的Groupby"
   ]
  },
  {
   "cell_type": "code",
   "execution_count": 261,
   "metadata": {},
   "outputs": [],
   "source": [
    "grouped_house = housing_data[['metro_num','S','mon_price']].groupby(housing_data['聚类类别'])\n",
    "#grouped_house"
   ]
  },
  {
   "cell_type": "code",
   "execution_count": 262,
   "metadata": {},
   "outputs": [
    {
     "data": {
      "text/html": [
       "<div>\n",
       "<style scoped>\n",
       "    .dataframe tbody tr th:only-of-type {\n",
       "        vertical-align: middle;\n",
       "    }\n",
       "\n",
       "    .dataframe tbody tr th {\n",
       "        vertical-align: top;\n",
       "    }\n",
       "\n",
       "    .dataframe thead th {\n",
       "        text-align: right;\n",
       "    }\n",
       "</style>\n",
       "<table border=\"1\" class=\"dataframe\">\n",
       "  <thead>\n",
       "    <tr style=\"text-align: right;\">\n",
       "      <th></th>\n",
       "      <th>metro_num</th>\n",
       "      <th>S</th>\n",
       "      <th>mon_price</th>\n",
       "    </tr>\n",
       "    <tr>\n",
       "      <th>聚类类别</th>\n",
       "      <th></th>\n",
       "      <th></th>\n",
       "      <th></th>\n",
       "    </tr>\n",
       "  </thead>\n",
       "  <tbody>\n",
       "    <tr>\n",
       "      <th>交通不便普通</th>\n",
       "      <td>1660.43</td>\n",
       "      <td>13.07</td>\n",
       "      <td>1790.73</td>\n",
       "    </tr>\n",
       "    <tr>\n",
       "      <th>交通一般普通</th>\n",
       "      <td>903.22</td>\n",
       "      <td>12.13</td>\n",
       "      <td>1944.71</td>\n",
       "    </tr>\n",
       "    <tr>\n",
       "      <th>交通便利普通</th>\n",
       "      <td>396.07</td>\n",
       "      <td>12.46</td>\n",
       "      <td>2518.35</td>\n",
       "    </tr>\n",
       "    <tr>\n",
       "      <th>高端房源</th>\n",
       "      <td>653.07</td>\n",
       "      <td>46.15</td>\n",
       "      <td>4532.37</td>\n",
       "    </tr>\n",
       "    <tr>\n",
       "      <th>豪宅</th>\n",
       "      <td>680.55</td>\n",
       "      <td>80.92</td>\n",
       "      <td>6868.07</td>\n",
       "    </tr>\n",
       "  </tbody>\n",
       "</table>\n",
       "</div>"
      ],
      "text/plain": [
       "        metro_num      S  mon_price\n",
       "聚类类别                               \n",
       "交通不便普通    1660.43  13.07    1790.73\n",
       "交通一般普通     903.22  12.13    1944.71\n",
       "交通便利普通     396.07  12.46    2518.35\n",
       "高端房源       653.07  46.15    4532.37\n",
       "豪宅         680.55  80.92    6868.07"
      ]
     },
     "execution_count": 262,
     "metadata": {},
     "output_type": "execute_result"
    }
   ],
   "source": [
    "grouped_house.mean().sort_values(by='mon_price',ascending=True).round(2)"
   ]
  },
  {
   "cell_type": "markdown",
   "metadata": {},
   "source": [
    "---"
   ]
  },
  {
   "cell_type": "markdown",
   "metadata": {},
   "source": [
    "# 分区"
   ]
  },
  {
   "cell_type": "code",
   "execution_count": 156,
   "metadata": {
    "scrolled": true
   },
   "outputs": [
    {
     "data": {
      "text/plain": [
       "浦东    2220\n",
       "宝山    1925\n",
       "闵行    1883\n",
       "嘉定    1569\n",
       "松江    1565\n",
       "普陀    1372\n",
       "徐汇     864\n",
       "杨浦     645\n",
       "长宁     555\n",
       "闸北     484\n",
       "虹口     446\n",
       "黄浦     270\n",
       "青浦     182\n",
       "静安      54\n",
       "Name: district, dtype: int64"
      ]
     },
     "execution_count": 156,
     "metadata": {},
     "output_type": "execute_result"
    }
   ],
   "source": [
    "housing_data['district'].value_counts() # 各区房源总数"
   ]
  },
  {
   "cell_type": "markdown",
   "metadata": {},
   "source": [
    "---"
   ]
  },
  {
   "cell_type": "markdown",
   "metadata": {},
   "source": [
    "# 转化为全上海类别的DataFrame"
   ]
  },
  {
   "cell_type": "code",
   "execution_count": 310,
   "metadata": {},
   "outputs": [],
   "source": [
    "low_type = housing_data[housing_data['聚类类别']=='交通不便普通']['district'].value_counts()\n",
    "normal_type = housing_data[housing_data['聚类类别']=='交通一般普通']['district'].value_counts()\n",
    "mid_type = housing_data[housing_data['聚类类别']=='交通便利普通']['district'].value_counts()\n",
    "high_type = housing_data[housing_data['聚类类别']=='高端房源']['district'].value_counts()\n",
    "expensive_type = housing_data[housing_data['聚类类别']=='豪宅']['district'].value_counts()"
   ]
  },
  {
   "cell_type": "code",
   "execution_count": 311,
   "metadata": {},
   "outputs": [],
   "source": [
    "low_type = Series(low_type)\n",
    "normal_type = Series(normal_type)\n",
    "mid_type = Series(mid_type)\n",
    "high_type = Series(high_type)\n",
    "expensive_type = Series(expensive_type)"
   ]
  },
  {
   "cell_type": "code",
   "execution_count": 314,
   "metadata": {},
   "outputs": [],
   "source": [
    "temp_pd = DataFrame(housing_data['district'].value_counts())"
   ]
  },
  {
   "cell_type": "code",
   "execution_count": 315,
   "metadata": {},
   "outputs": [],
   "source": [
    "# '交通不便普通','交通一般普通','交通便利普通','高端房源','豪宅'\n",
    "temp_pd.insert(1,'交通不便普通',low_type)\n",
    "temp_pd.insert(2,'交通一般普通',normal_type)\n",
    "temp_pd.insert(3,'交通便利普通',mid_type)\n",
    "temp_pd.insert(4,'高端房源',high_type)\n",
    "temp_pd.insert(5,'豪宅',expensive_type)"
   ]
  },
  {
   "cell_type": "code",
   "execution_count": 319,
   "metadata": {},
   "outputs": [],
   "source": [
    "shanghai_housing = temp_pd.fillna(0).astype(int)"
   ]
  },
  {
   "cell_type": "code",
   "execution_count": 320,
   "metadata": {},
   "outputs": [
    {
     "data": {
      "text/html": [
       "<div>\n",
       "<style scoped>\n",
       "    .dataframe tbody tr th:only-of-type {\n",
       "        vertical-align: middle;\n",
       "    }\n",
       "\n",
       "    .dataframe tbody tr th {\n",
       "        vertical-align: top;\n",
       "    }\n",
       "\n",
       "    .dataframe thead th {\n",
       "        text-align: right;\n",
       "    }\n",
       "</style>\n",
       "<table border=\"1\" class=\"dataframe\">\n",
       "  <thead>\n",
       "    <tr style=\"text-align: right;\">\n",
       "      <th></th>\n",
       "      <th>district</th>\n",
       "      <th>交通不便普通</th>\n",
       "      <th>交通一般普通</th>\n",
       "      <th>交通便利普通</th>\n",
       "      <th>高端房源</th>\n",
       "      <th>豪宅</th>\n",
       "    </tr>\n",
       "  </thead>\n",
       "  <tbody>\n",
       "    <tr>\n",
       "      <th>浦东</th>\n",
       "      <td>2220</td>\n",
       "      <td>164</td>\n",
       "      <td>777</td>\n",
       "      <td>762</td>\n",
       "      <td>414</td>\n",
       "      <td>103</td>\n",
       "    </tr>\n",
       "    <tr>\n",
       "      <th>宝山</th>\n",
       "      <td>1925</td>\n",
       "      <td>464</td>\n",
       "      <td>896</td>\n",
       "      <td>371</td>\n",
       "      <td>141</td>\n",
       "      <td>53</td>\n",
       "    </tr>\n",
       "    <tr>\n",
       "      <th>闵行</th>\n",
       "      <td>1883</td>\n",
       "      <td>283</td>\n",
       "      <td>848</td>\n",
       "      <td>516</td>\n",
       "      <td>186</td>\n",
       "      <td>50</td>\n",
       "    </tr>\n",
       "    <tr>\n",
       "      <th>嘉定</th>\n",
       "      <td>1569</td>\n",
       "      <td>624</td>\n",
       "      <td>479</td>\n",
       "      <td>242</td>\n",
       "      <td>166</td>\n",
       "      <td>58</td>\n",
       "    </tr>\n",
       "    <tr>\n",
       "      <th>松江</th>\n",
       "      <td>1565</td>\n",
       "      <td>405</td>\n",
       "      <td>641</td>\n",
       "      <td>403</td>\n",
       "      <td>82</td>\n",
       "      <td>34</td>\n",
       "    </tr>\n",
       "    <tr>\n",
       "      <th>普陀</th>\n",
       "      <td>1372</td>\n",
       "      <td>204</td>\n",
       "      <td>290</td>\n",
       "      <td>613</td>\n",
       "      <td>209</td>\n",
       "      <td>56</td>\n",
       "    </tr>\n",
       "    <tr>\n",
       "      <th>徐汇</th>\n",
       "      <td>864</td>\n",
       "      <td>32</td>\n",
       "      <td>42</td>\n",
       "      <td>541</td>\n",
       "      <td>179</td>\n",
       "      <td>70</td>\n",
       "    </tr>\n",
       "    <tr>\n",
       "      <th>杨浦</th>\n",
       "      <td>645</td>\n",
       "      <td>24</td>\n",
       "      <td>162</td>\n",
       "      <td>264</td>\n",
       "      <td>163</td>\n",
       "      <td>32</td>\n",
       "    </tr>\n",
       "    <tr>\n",
       "      <th>长宁</th>\n",
       "      <td>555</td>\n",
       "      <td>14</td>\n",
       "      <td>72</td>\n",
       "      <td>306</td>\n",
       "      <td>113</td>\n",
       "      <td>50</td>\n",
       "    </tr>\n",
       "    <tr>\n",
       "      <th>闸北</th>\n",
       "      <td>484</td>\n",
       "      <td>32</td>\n",
       "      <td>119</td>\n",
       "      <td>206</td>\n",
       "      <td>88</td>\n",
       "      <td>39</td>\n",
       "    </tr>\n",
       "    <tr>\n",
       "      <th>虹口</th>\n",
       "      <td>446</td>\n",
       "      <td>39</td>\n",
       "      <td>71</td>\n",
       "      <td>212</td>\n",
       "      <td>104</td>\n",
       "      <td>20</td>\n",
       "    </tr>\n",
       "    <tr>\n",
       "      <th>黄浦</th>\n",
       "      <td>270</td>\n",
       "      <td>0</td>\n",
       "      <td>1</td>\n",
       "      <td>144</td>\n",
       "      <td>84</td>\n",
       "      <td>41</td>\n",
       "    </tr>\n",
       "    <tr>\n",
       "      <th>青浦</th>\n",
       "      <td>182</td>\n",
       "      <td>32</td>\n",
       "      <td>42</td>\n",
       "      <td>90</td>\n",
       "      <td>11</td>\n",
       "      <td>7</td>\n",
       "    </tr>\n",
       "    <tr>\n",
       "      <th>静安</th>\n",
       "      <td>54</td>\n",
       "      <td>0</td>\n",
       "      <td>0</td>\n",
       "      <td>18</td>\n",
       "      <td>22</td>\n",
       "      <td>14</td>\n",
       "    </tr>\n",
       "  </tbody>\n",
       "</table>\n",
       "</div>"
      ],
      "text/plain": [
       "    district  交通不便普通  交通一般普通  交通便利普通  高端房源   豪宅\n",
       "浦东      2220     164     777     762   414  103\n",
       "宝山      1925     464     896     371   141   53\n",
       "闵行      1883     283     848     516   186   50\n",
       "嘉定      1569     624     479     242   166   58\n",
       "松江      1565     405     641     403    82   34\n",
       "普陀      1372     204     290     613   209   56\n",
       "徐汇       864      32      42     541   179   70\n",
       "杨浦       645      24     162     264   163   32\n",
       "长宁       555      14      72     306   113   50\n",
       "闸北       484      32     119     206    88   39\n",
       "虹口       446      39      71     212   104   20\n",
       "黄浦       270       0       1     144    84   41\n",
       "青浦       182      32      42      90    11    7\n",
       "静安        54       0       0      18    22   14"
      ]
     },
     "execution_count": 320,
     "metadata": {},
     "output_type": "execute_result"
    }
   ],
   "source": [
    "shanghai_housing"
   ]
  },
  {
   "cell_type": "code",
   "execution_count": 321,
   "metadata": {},
   "outputs": [],
   "source": [
    "shanghai_housing.to_csv('shanghai_housing_type.csv')"
   ]
  },
  {
   "cell_type": "markdown",
   "metadata": {},
   "source": [
    "---"
   ]
  },
  {
   "cell_type": "code",
   "execution_count": null,
   "metadata": {},
   "outputs": [],
   "source": []
  }
 ],
 "metadata": {
  "kernelspec": {
   "display_name": "Python 3",
   "language": "python",
   "name": "python3"
  },
  "language_info": {
   "codemirror_mode": {
    "name": "ipython",
    "version": 3
   },
   "file_extension": ".py",
   "mimetype": "text/x-python",
   "name": "python",
   "nbconvert_exporter": "python",
   "pygments_lexer": "ipython3",
   "version": "3.6.3"
  }
 },
 "nbformat": 4,
 "nbformat_minor": 2
}
