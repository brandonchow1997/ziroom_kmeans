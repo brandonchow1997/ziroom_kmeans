{
 "cells": [
  {
   "cell_type": "code",
   "execution_count": 56,
   "metadata": {},
   "outputs": [],
   "source": [
    "import pymongo\n",
    "import pandas as pd\n",
    "from pandas import Series\n",
    "client = pymongo.MongoClient('localhost',27017)\n",
    "db  = client['Ziru_housing']\n",
    "table = db['Shanghai_Renting']\n",
    "data = pd.DataFrame(list(table.find()))\n",
    "del data['_id']"
   ]
  },
  {
   "cell_type": "code",
   "execution_count": 57,
   "metadata": {},
   "outputs": [
    {
     "data": {
      "text/html": [
       "<div>\n",
       "<style scoped>\n",
       "    .dataframe tbody tr th:only-of-type {\n",
       "        vertical-align: middle;\n",
       "    }\n",
       "\n",
       "    .dataframe tbody tr th {\n",
       "        vertical-align: top;\n",
       "    }\n",
       "\n",
       "    .dataframe thead th {\n",
       "        text-align: right;\n",
       "    }\n",
       "</style>\n",
       "<table border=\"1\" class=\"dataframe\">\n",
       "  <thead>\n",
       "    <tr style=\"text-align: right;\">\n",
       "      <th></th>\n",
       "      <th>area</th>\n",
       "      <th>district</th>\n",
       "      <th>metro</th>\n",
       "      <th>metro_distance</th>\n",
       "      <th>price</th>\n",
       "      <th>square</th>\n",
       "      <th>title</th>\n",
       "      <th>type</th>\n",
       "    </tr>\n",
       "  </thead>\n",
       "  <tbody>\n",
       "    <tr>\n",
       "      <th>0</th>\n",
       "      <td>42 ㎡06/6层2室1厅</td>\n",
       "      <td>徐汇</td>\n",
       "      <td>距3号线龙漕路站173米</td>\n",
       "      <td>173</td>\n",
       "      <td>4830</td>\n",
       "      <td>42</td>\n",
       "      <td>整租 · 上缝小区2居室-南</td>\n",
       "      <td>整租</td>\n",
       "    </tr>\n",
       "    <tr>\n",
       "      <th>1</th>\n",
       "      <td>68.65 ㎡06/6层2室1厅</td>\n",
       "      <td>徐汇</td>\n",
       "      <td>距11号线龙耀路站757米</td>\n",
       "      <td>757</td>\n",
       "      <td>5130</td>\n",
       "      <td>68.65</td>\n",
       "      <td>整租 · 滨江小区2居室-南</td>\n",
       "      <td>整租</td>\n",
       "    </tr>\n",
       "    <tr>\n",
       "      <th>2</th>\n",
       "      <td>30.37 ㎡06/6层1室1厅</td>\n",
       "      <td>徐汇</td>\n",
       "      <td>距4号线上海体育馆站236米</td>\n",
       "      <td>236</td>\n",
       "      <td>4690</td>\n",
       "      <td>30.37</td>\n",
       "      <td>整租 · 中原新村1居室-南</td>\n",
       "      <td>整租</td>\n",
       "    </tr>\n",
       "    <tr>\n",
       "      <th>3</th>\n",
       "      <td>49.15 ㎡01/6层2室1厅</td>\n",
       "      <td>徐汇</td>\n",
       "      <td>距3号线石龙路站243米</td>\n",
       "      <td>243</td>\n",
       "      <td>4790</td>\n",
       "      <td>49.15</td>\n",
       "      <td>整租 · 东泉小区2居室-南</td>\n",
       "      <td>整租</td>\n",
       "    </tr>\n",
       "    <tr>\n",
       "      <th>4</th>\n",
       "      <td>33.17 ㎡04/6层1室1厅</td>\n",
       "      <td>徐汇</td>\n",
       "      <td>距4号线东安路站488米</td>\n",
       "      <td>488</td>\n",
       "      <td>4490</td>\n",
       "      <td>33.17</td>\n",
       "      <td>整租 · 斜土路2200弄1居室-南</td>\n",
       "      <td>整租</td>\n",
       "    </tr>\n",
       "  </tbody>\n",
       "</table>\n",
       "</div>"
      ],
      "text/plain": [
       "               area district           metro metro_distance price square  \\\n",
       "0     42 ㎡06/6层2室1厅       徐汇    距3号线龙漕路站173米            173  4830     42   \n",
       "1  68.65 ㎡06/6层2室1厅       徐汇   距11号线龙耀路站757米            757  5130  68.65   \n",
       "2  30.37 ㎡06/6层1室1厅       徐汇  距4号线上海体育馆站236米            236  4690  30.37   \n",
       "3  49.15 ㎡01/6层2室1厅       徐汇    距3号线石龙路站243米            243  4790  49.15   \n",
       "4  33.17 ㎡04/6层1室1厅       徐汇    距4号线东安路站488米            488  4490  33.17   \n",
       "\n",
       "                title type  \n",
       "0      整租 · 上缝小区2居室-南   整租  \n",
       "1      整租 · 滨江小区2居室-南   整租  \n",
       "2      整租 · 中原新村1居室-南   整租  \n",
       "3      整租 · 东泉小区2居室-南   整租  \n",
       "4  整租 · 斜土路2200弄1居室-南   整租  "
      ]
     },
     "execution_count": 57,
     "metadata": {},
     "output_type": "execute_result"
    }
   ],
   "source": [
    "data.head()"
   ]
  },
  {
   "cell_type": "code",
   "execution_count": 58,
   "metadata": {},
   "outputs": [
    {
     "data": {
      "text/plain": [
       "(14652, 8)"
      ]
     },
     "execution_count": 58,
     "metadata": {},
     "output_type": "execute_result"
    }
   ],
   "source": [
    "data.shape\n",
    "#data[data['square']=='约13']"
   ]
  },
  {
   "cell_type": "code",
   "execution_count": 59,
   "metadata": {},
   "outputs": [],
   "source": [
    "import re\n",
    "def square(num):\n",
    "    # 取薪资均值----------------\n",
    "    pattern = re.compile('[1-9]\\d*.\\d*|0.\\d*[1-9]\\d*')\n",
    "    temp = num\n",
    "    res = re.findall(pattern, temp)\n",
    "    a=0\n",
    "    for i in res:\n",
    "            a = float(i)\n",
    "    square = a\n",
    "    # 函数返回值\n",
    "    return square\n",
    "\n",
    "square_list = []\n",
    "metro_list = []\n",
    "for i in range(0,14652):\n",
    "    square_num = square(data['square'][i])\n",
    "    metro_num =  square(data['metro_distance'][i])\n",
    "    square_list.append(square_num)\n",
    "    metro_list.append(metro_num)\n",
    "#print(square_list)"
   ]
  },
  {
   "cell_type": "code",
   "execution_count": 60,
   "metadata": {},
   "outputs": [],
   "source": [
    "sq = Series(square_list)\n",
    "md = Series(metro_list)\n",
    "data.insert(6,'S',sq)\n",
    "data.insert(4,'metro_num',md)"
   ]
  },
  {
   "cell_type": "code",
   "execution_count": 61,
   "metadata": {},
   "outputs": [
    {
     "data": {
      "text/html": [
       "<div>\n",
       "<style scoped>\n",
       "    .dataframe tbody tr th:only-of-type {\n",
       "        vertical-align: middle;\n",
       "    }\n",
       "\n",
       "    .dataframe tbody tr th {\n",
       "        vertical-align: top;\n",
       "    }\n",
       "\n",
       "    .dataframe thead th {\n",
       "        text-align: right;\n",
       "    }\n",
       "</style>\n",
       "<table border=\"1\" class=\"dataframe\">\n",
       "  <thead>\n",
       "    <tr style=\"text-align: right;\">\n",
       "      <th></th>\n",
       "      <th>area</th>\n",
       "      <th>district</th>\n",
       "      <th>metro</th>\n",
       "      <th>metro_distance</th>\n",
       "      <th>metro_num</th>\n",
       "      <th>price</th>\n",
       "      <th>square</th>\n",
       "      <th>S</th>\n",
       "      <th>title</th>\n",
       "      <th>type</th>\n",
       "    </tr>\n",
       "  </thead>\n",
       "  <tbody>\n",
       "    <tr>\n",
       "      <th>0</th>\n",
       "      <td>42 ㎡06/6层2室1厅</td>\n",
       "      <td>徐汇</td>\n",
       "      <td>距3号线龙漕路站173米</td>\n",
       "      <td>173</td>\n",
       "      <td>173.0</td>\n",
       "      <td>4830</td>\n",
       "      <td>42</td>\n",
       "      <td>42.00</td>\n",
       "      <td>整租 · 上缝小区2居室-南</td>\n",
       "      <td>整租</td>\n",
       "    </tr>\n",
       "    <tr>\n",
       "      <th>1</th>\n",
       "      <td>68.65 ㎡06/6层2室1厅</td>\n",
       "      <td>徐汇</td>\n",
       "      <td>距11号线龙耀路站757米</td>\n",
       "      <td>757</td>\n",
       "      <td>757.0</td>\n",
       "      <td>5130</td>\n",
       "      <td>68.65</td>\n",
       "      <td>68.65</td>\n",
       "      <td>整租 · 滨江小区2居室-南</td>\n",
       "      <td>整租</td>\n",
       "    </tr>\n",
       "    <tr>\n",
       "      <th>2</th>\n",
       "      <td>30.37 ㎡06/6层1室1厅</td>\n",
       "      <td>徐汇</td>\n",
       "      <td>距4号线上海体育馆站236米</td>\n",
       "      <td>236</td>\n",
       "      <td>236.0</td>\n",
       "      <td>4690</td>\n",
       "      <td>30.37</td>\n",
       "      <td>30.37</td>\n",
       "      <td>整租 · 中原新村1居室-南</td>\n",
       "      <td>整租</td>\n",
       "    </tr>\n",
       "    <tr>\n",
       "      <th>3</th>\n",
       "      <td>49.15 ㎡01/6层2室1厅</td>\n",
       "      <td>徐汇</td>\n",
       "      <td>距3号线石龙路站243米</td>\n",
       "      <td>243</td>\n",
       "      <td>243.0</td>\n",
       "      <td>4790</td>\n",
       "      <td>49.15</td>\n",
       "      <td>49.15</td>\n",
       "      <td>整租 · 东泉小区2居室-南</td>\n",
       "      <td>整租</td>\n",
       "    </tr>\n",
       "    <tr>\n",
       "      <th>4</th>\n",
       "      <td>33.17 ㎡04/6层1室1厅</td>\n",
       "      <td>徐汇</td>\n",
       "      <td>距4号线东安路站488米</td>\n",
       "      <td>488</td>\n",
       "      <td>488.0</td>\n",
       "      <td>4490</td>\n",
       "      <td>33.17</td>\n",
       "      <td>33.17</td>\n",
       "      <td>整租 · 斜土路2200弄1居室-南</td>\n",
       "      <td>整租</td>\n",
       "    </tr>\n",
       "  </tbody>\n",
       "</table>\n",
       "</div>"
      ],
      "text/plain": [
       "               area district           metro metro_distance  metro_num price  \\\n",
       "0     42 ㎡06/6层2室1厅       徐汇    距3号线龙漕路站173米            173      173.0  4830   \n",
       "1  68.65 ㎡06/6层2室1厅       徐汇   距11号线龙耀路站757米            757      757.0  5130   \n",
       "2  30.37 ㎡06/6层1室1厅       徐汇  距4号线上海体育馆站236米            236      236.0  4690   \n",
       "3  49.15 ㎡01/6层2室1厅       徐汇    距3号线石龙路站243米            243      243.0  4790   \n",
       "4  33.17 ㎡04/6层1室1厅       徐汇    距4号线东安路站488米            488      488.0  4490   \n",
       "\n",
       "  square      S               title type  \n",
       "0     42  42.00      整租 · 上缝小区2居室-南   整租  \n",
       "1  68.65  68.65      整租 · 滨江小区2居室-南   整租  \n",
       "2  30.37  30.37      整租 · 中原新村1居室-南   整租  \n",
       "3  49.15  49.15      整租 · 东泉小区2居室-南   整租  \n",
       "4  33.17  33.17  整租 · 斜土路2200弄1居室-南   整租  "
      ]
     },
     "execution_count": 61,
     "metadata": {},
     "output_type": "execute_result"
    }
   ],
   "source": [
    "data.head()"
   ]
  },
  {
   "cell_type": "markdown",
   "metadata": {},
   "source": [
    "# 去重"
   ]
  },
  {
   "cell_type": "code",
   "execution_count": 62,
   "metadata": {},
   "outputs": [
    {
     "data": {
      "text/plain": [
       "(14453, 10)"
      ]
     },
     "execution_count": 62,
     "metadata": {},
     "output_type": "execute_result"
    }
   ],
   "source": [
    "data = data.drop_duplicates()\n",
    "data.shape"
   ]
  },
  {
   "cell_type": "markdown",
   "metadata": {},
   "source": [
    "# 输出到csv"
   ]
  },
  {
   "cell_type": "code",
   "execution_count": 79,
   "metadata": {},
   "outputs": [],
   "source": [
    "data.to_csv('housing_shanghai.csv')"
   ]
  },
  {
   "cell_type": "markdown",
   "metadata": {},
   "source": [
    "# 准备数据"
   ]
  },
  {
   "cell_type": "code",
   "execution_count": 66,
   "metadata": {},
   "outputs": [],
   "source": [
    "housing = data.copy()"
   ]
  },
  {
   "cell_type": "code",
   "execution_count": 67,
   "metadata": {
    "scrolled": true
   },
   "outputs": [
    {
     "data": {
      "text/html": [
       "<div>\n",
       "<style scoped>\n",
       "    .dataframe tbody tr th:only-of-type {\n",
       "        vertical-align: middle;\n",
       "    }\n",
       "\n",
       "    .dataframe tbody tr th {\n",
       "        vertical-align: top;\n",
       "    }\n",
       "\n",
       "    .dataframe thead th {\n",
       "        text-align: right;\n",
       "    }\n",
       "</style>\n",
       "<table border=\"1\" class=\"dataframe\">\n",
       "  <thead>\n",
       "    <tr style=\"text-align: right;\">\n",
       "      <th></th>\n",
       "      <th>district</th>\n",
       "      <th>type</th>\n",
       "      <th>metro_num</th>\n",
       "      <th>S</th>\n",
       "      <th>price</th>\n",
       "    </tr>\n",
       "  </thead>\n",
       "  <tbody>\n",
       "    <tr>\n",
       "      <th>0</th>\n",
       "      <td>徐汇</td>\n",
       "      <td>整租</td>\n",
       "      <td>173.0</td>\n",
       "      <td>42.00</td>\n",
       "      <td>4830</td>\n",
       "    </tr>\n",
       "    <tr>\n",
       "      <th>1</th>\n",
       "      <td>徐汇</td>\n",
       "      <td>整租</td>\n",
       "      <td>757.0</td>\n",
       "      <td>68.65</td>\n",
       "      <td>5130</td>\n",
       "    </tr>\n",
       "    <tr>\n",
       "      <th>2</th>\n",
       "      <td>徐汇</td>\n",
       "      <td>整租</td>\n",
       "      <td>236.0</td>\n",
       "      <td>30.37</td>\n",
       "      <td>4690</td>\n",
       "    </tr>\n",
       "    <tr>\n",
       "      <th>3</th>\n",
       "      <td>徐汇</td>\n",
       "      <td>整租</td>\n",
       "      <td>243.0</td>\n",
       "      <td>49.15</td>\n",
       "      <td>4790</td>\n",
       "    </tr>\n",
       "    <tr>\n",
       "      <th>4</th>\n",
       "      <td>徐汇</td>\n",
       "      <td>整租</td>\n",
       "      <td>488.0</td>\n",
       "      <td>33.17</td>\n",
       "      <td>4490</td>\n",
       "    </tr>\n",
       "  </tbody>\n",
       "</table>\n",
       "</div>"
      ],
      "text/plain": [
       "  district type  metro_num      S price\n",
       "0       徐汇   整租      173.0  42.00  4830\n",
       "1       徐汇   整租      757.0  68.65  5130\n",
       "2       徐汇   整租      236.0  30.37  4690\n",
       "3       徐汇   整租      243.0  49.15  4790\n",
       "4       徐汇   整租      488.0  33.17  4490"
      ]
     },
     "execution_count": 67,
     "metadata": {},
     "output_type": "execute_result"
    }
   ],
   "source": [
    "housing = housing[['district','type','metro_num','S','price']]\n",
    "housing.head()"
   ]
  },
  {
   "cell_type": "code",
   "execution_count": 68,
   "metadata": {},
   "outputs": [
    {
     "data": {
      "text/html": [
       "<div>\n",
       "<style scoped>\n",
       "    .dataframe tbody tr th:only-of-type {\n",
       "        vertical-align: middle;\n",
       "    }\n",
       "\n",
       "    .dataframe tbody tr th {\n",
       "        vertical-align: top;\n",
       "    }\n",
       "\n",
       "    .dataframe thead th {\n",
       "        text-align: right;\n",
       "    }\n",
       "</style>\n",
       "<table border=\"1\" class=\"dataframe\">\n",
       "  <thead>\n",
       "    <tr style=\"text-align: right;\">\n",
       "      <th></th>\n",
       "      <th>metro_num</th>\n",
       "      <th>S</th>\n",
       "      <th>price</th>\n",
       "    </tr>\n",
       "  </thead>\n",
       "  <tbody>\n",
       "    <tr>\n",
       "      <th>0</th>\n",
       "      <td>173.0</td>\n",
       "      <td>42.00</td>\n",
       "      <td>4830</td>\n",
       "    </tr>\n",
       "    <tr>\n",
       "      <th>1</th>\n",
       "      <td>757.0</td>\n",
       "      <td>68.65</td>\n",
       "      <td>5130</td>\n",
       "    </tr>\n",
       "    <tr>\n",
       "      <th>2</th>\n",
       "      <td>236.0</td>\n",
       "      <td>30.37</td>\n",
       "      <td>4690</td>\n",
       "    </tr>\n",
       "    <tr>\n",
       "      <th>3</th>\n",
       "      <td>243.0</td>\n",
       "      <td>49.15</td>\n",
       "      <td>4790</td>\n",
       "    </tr>\n",
       "    <tr>\n",
       "      <th>4</th>\n",
       "      <td>488.0</td>\n",
       "      <td>33.17</td>\n",
       "      <td>4490</td>\n",
       "    </tr>\n",
       "  </tbody>\n",
       "</table>\n",
       "</div>"
      ],
      "text/plain": [
       "   metro_num      S price\n",
       "0      173.0  42.00  4830\n",
       "1      757.0  68.65  5130\n",
       "2      236.0  30.37  4690\n",
       "3      243.0  49.15  4790\n",
       "4      488.0  33.17  4490"
      ]
     },
     "execution_count": 68,
     "metadata": {},
     "output_type": "execute_result"
    }
   ],
   "source": [
    "housing_num = housing[['metro_num','S','price']]\n",
    "housing_num.head()"
   ]
  },
  {
   "cell_type": "code",
   "execution_count": 69,
   "metadata": {},
   "outputs": [
    {
     "data": {
      "text/html": [
       "<div>\n",
       "<style scoped>\n",
       "    .dataframe tbody tr th:only-of-type {\n",
       "        vertical-align: middle;\n",
       "    }\n",
       "\n",
       "    .dataframe tbody tr th {\n",
       "        vertical-align: top;\n",
       "    }\n",
       "\n",
       "    .dataframe thead th {\n",
       "        text-align: right;\n",
       "    }\n",
       "</style>\n",
       "<table border=\"1\" class=\"dataframe\">\n",
       "  <thead>\n",
       "    <tr style=\"text-align: right;\">\n",
       "      <th></th>\n",
       "      <th>district</th>\n",
       "      <th>type</th>\n",
       "    </tr>\n",
       "  </thead>\n",
       "  <tbody>\n",
       "    <tr>\n",
       "      <th>0</th>\n",
       "      <td>徐汇</td>\n",
       "      <td>整租</td>\n",
       "    </tr>\n",
       "    <tr>\n",
       "      <th>1</th>\n",
       "      <td>徐汇</td>\n",
       "      <td>整租</td>\n",
       "    </tr>\n",
       "    <tr>\n",
       "      <th>2</th>\n",
       "      <td>徐汇</td>\n",
       "      <td>整租</td>\n",
       "    </tr>\n",
       "    <tr>\n",
       "      <th>3</th>\n",
       "      <td>徐汇</td>\n",
       "      <td>整租</td>\n",
       "    </tr>\n",
       "    <tr>\n",
       "      <th>4</th>\n",
       "      <td>徐汇</td>\n",
       "      <td>整租</td>\n",
       "    </tr>\n",
       "  </tbody>\n",
       "</table>\n",
       "</div>"
      ],
      "text/plain": [
       "  district type\n",
       "0       徐汇   整租\n",
       "1       徐汇   整租\n",
       "2       徐汇   整租\n",
       "3       徐汇   整租\n",
       "4       徐汇   整租"
      ]
     },
     "execution_count": 69,
     "metadata": {},
     "output_type": "execute_result"
    }
   ],
   "source": [
    "housing_cat = housing[['district','type']]\n",
    "housing_cat.head()"
   ]
  },
  {
   "cell_type": "markdown",
   "metadata": {},
   "source": [
    "# 流水线"
   ]
  },
  {
   "cell_type": "code",
   "execution_count": 70,
   "metadata": {},
   "outputs": [
    {
     "name": "stderr",
     "output_type": "stream",
     "text": [
      "C:\\Users\\13626\\Anaconda3\\lib\\site-packages\\sklearn\\utils\\deprecation.py:58: DeprecationWarning: Class Imputer is deprecated; Imputer was deprecated in version 0.20 and will be removed in 0.22. Import impute.SimpleImputer from sklearn instead.\n",
      "  warnings.warn(msg, category=DeprecationWarning)\n"
     ]
    }
   ],
   "source": [
    "from sklearn.pipeline import Pipeline\n",
    "from sklearn.preprocessing import StandardScaler\n",
    "from sklearn.preprocessing import OneHotEncoder\n",
    "from sklearn.preprocessing import Imputer\n",
    "\n",
    "num_pipeline = Pipeline([\n",
    "        ('imputer', Imputer(strategy=\"median\")),\n",
    "        ('std_scaler', StandardScaler())\n",
    "    ])\n",
    "#housing_num_tr = num_pipeline.fit_transform(housing_num)"
   ]
  },
  {
   "cell_type": "code",
   "execution_count": 71,
   "metadata": {},
   "outputs": [],
   "source": [
    "from sklearn.compose import ColumnTransformer"
   ]
  },
  {
   "cell_type": "code",
   "execution_count": 77,
   "metadata": {},
   "outputs": [
    {
     "name": "stderr",
     "output_type": "stream",
     "text": [
      "C:\\Users\\13626\\Anaconda3\\lib\\site-packages\\sklearn\\utils\\deprecation.py:58: DeprecationWarning: Class Imputer is deprecated; Imputer was deprecated in version 0.20 and will be removed in 0.22. Import impute.SimpleImputer from sklearn instead.\n",
      "  warnings.warn(msg, category=DeprecationWarning)\n"
     ]
    }
   ],
   "source": [
    "num_attribs = list(housing_num)\n",
    "cat_attribs = ['district','type']\n",
    "\n",
    "full_pipeline = ColumnTransformer([\n",
    "    (\"cat\", OneHotEncoder(), cat_attribs),\n",
    "    (\"num\", num_pipeline, num_attribs),\n",
    "    ])\n",
    "\n",
    "housing_prepared = full_pipeline.fit_transform(housing).toarray()"
   ]
  },
  {
   "cell_type": "code",
   "execution_count": 78,
   "metadata": {},
   "outputs": [
    {
     "data": {
      "text/plain": [
       "array([[ 0.        ,  0.        ,  1.        , ..., -1.1958562 ,\n",
       "         1.15194702,  1.52291143],\n",
       "       [ 0.        ,  0.        ,  1.        , ..., -0.06452153,\n",
       "         2.55912427,  1.73173726],\n",
       "       [ 0.        ,  0.        ,  1.        , ..., -1.07381153,\n",
       "         0.53785803,  1.42545938],\n",
       "       ...,\n",
       "       [ 0.        ,  1.        ,  0.        , ...,  1.51431023,\n",
       "        -0.51660087, -0.61407286],\n",
       "       [ 0.        ,  1.        ,  0.        , ..., -0.26986652,\n",
       "        -1.06574321, -0.59319028],\n",
       "       [ 0.        ,  1.        ,  0.        , ...,  0.0536487 ,\n",
       "        -0.61692495, -0.75329008]])"
      ]
     },
     "execution_count": 78,
     "metadata": {},
     "output_type": "execute_result"
    }
   ],
   "source": [
    "housing_prepared"
   ]
  },
  {
   "cell_type": "code",
   "execution_count": null,
   "metadata": {},
   "outputs": [],
   "source": []
  }
 ],
 "metadata": {
  "kernelspec": {
   "display_name": "Python 3",
   "language": "python",
   "name": "python3"
  },
  "language_info": {
   "codemirror_mode": {
    "name": "ipython",
    "version": 3
   },
   "file_extension": ".py",
   "mimetype": "text/x-python",
   "name": "python",
   "nbconvert_exporter": "python",
   "pygments_lexer": "ipython3",
   "version": "3.6.3"
  }
 },
 "nbformat": 4,
 "nbformat_minor": 2
}
