{
 "cells": [
  {
   "cell_type": "markdown",
   "metadata": {},
   "source": [
    "# 读取数据"
   ]
  },
  {
   "cell_type": "code",
   "execution_count": 143,
   "metadata": {},
   "outputs": [],
   "source": [
    "import pandas as pd\n",
    "from pandas import Series,DataFrame"
   ]
  },
  {
   "cell_type": "code",
   "execution_count": 144,
   "metadata": {},
   "outputs": [],
   "source": [
    "data = pd.read_csv('./data/housing_with_type.csv')\n",
    "del data['Unnamed: 0']"
   ]
  },
  {
   "cell_type": "code",
   "execution_count": 145,
   "metadata": {},
   "outputs": [
    {
     "data": {
      "text/html": [
       "<div>\n",
       "<style scoped>\n",
       "    .dataframe tbody tr th:only-of-type {\n",
       "        vertical-align: middle;\n",
       "    }\n",
       "\n",
       "    .dataframe tbody tr th {\n",
       "        vertical-align: top;\n",
       "    }\n",
       "\n",
       "    .dataframe thead th {\n",
       "        text-align: right;\n",
       "    }\n",
       "</style>\n",
       "<table border=\"1\" class=\"dataframe\">\n",
       "  <thead>\n",
       "    <tr style=\"text-align: right;\">\n",
       "      <th></th>\n",
       "      <th>district</th>\n",
       "      <th>type</th>\n",
       "      <th>metro_num</th>\n",
       "      <th>S</th>\n",
       "      <th>mon_price</th>\n",
       "      <th>聚类类别</th>\n",
       "    </tr>\n",
       "  </thead>\n",
       "  <tbody>\n",
       "    <tr>\n",
       "      <th>0</th>\n",
       "      <td>徐汇</td>\n",
       "      <td>整租</td>\n",
       "      <td>173.0</td>\n",
       "      <td>42.00</td>\n",
       "      <td>4830</td>\n",
       "      <td>高端房源</td>\n",
       "    </tr>\n",
       "    <tr>\n",
       "      <th>1</th>\n",
       "      <td>徐汇</td>\n",
       "      <td>整租</td>\n",
       "      <td>757.0</td>\n",
       "      <td>68.65</td>\n",
       "      <td>5130</td>\n",
       "      <td>高端房源</td>\n",
       "    </tr>\n",
       "    <tr>\n",
       "      <th>2</th>\n",
       "      <td>徐汇</td>\n",
       "      <td>整租</td>\n",
       "      <td>236.0</td>\n",
       "      <td>30.37</td>\n",
       "      <td>4690</td>\n",
       "      <td>高端房源</td>\n",
       "    </tr>\n",
       "    <tr>\n",
       "      <th>3</th>\n",
       "      <td>徐汇</td>\n",
       "      <td>整租</td>\n",
       "      <td>243.0</td>\n",
       "      <td>49.15</td>\n",
       "      <td>4790</td>\n",
       "      <td>高端房源</td>\n",
       "    </tr>\n",
       "    <tr>\n",
       "      <th>4</th>\n",
       "      <td>徐汇</td>\n",
       "      <td>整租</td>\n",
       "      <td>488.0</td>\n",
       "      <td>33.17</td>\n",
       "      <td>4490</td>\n",
       "      <td>高端房源</td>\n",
       "    </tr>\n",
       "  </tbody>\n",
       "</table>\n",
       "</div>"
      ],
      "text/plain": [
       "  district type  metro_num      S  mon_price  聚类类别\n",
       "0       徐汇   整租      173.0  42.00       4830  高端房源\n",
       "1       徐汇   整租      757.0  68.65       5130  高端房源\n",
       "2       徐汇   整租      236.0  30.37       4690  高端房源\n",
       "3       徐汇   整租      243.0  49.15       4790  高端房源\n",
       "4       徐汇   整租      488.0  33.17       4490  高端房源"
      ]
     },
     "execution_count": 145,
     "metadata": {},
     "output_type": "execute_result"
    }
   ],
   "source": [
    "data.head()"
   ]
  },
  {
   "cell_type": "code",
   "execution_count": 146,
   "metadata": {},
   "outputs": [
    {
     "name": "stdout",
     "output_type": "stream",
     "text": [
      "<class 'pandas.core.frame.DataFrame'>\n",
      "RangeIndex: 14034 entries, 0 to 14033\n",
      "Data columns (total 6 columns):\n",
      "district     14034 non-null object\n",
      "type         14034 non-null object\n",
      "metro_num    14034 non-null float64\n",
      "S            14034 non-null float64\n",
      "mon_price    14034 non-null int64\n",
      "聚类类别         14034 non-null object\n",
      "dtypes: float64(2), int64(1), object(3)\n",
      "memory usage: 657.9+ KB\n"
     ]
    }
   ],
   "source": [
    "data.info()"
   ]
  },
  {
   "cell_type": "markdown",
   "metadata": {},
   "source": [
    "---"
   ]
  },
  {
   "cell_type": "markdown",
   "metadata": {},
   "source": [
    "# 添加上海各区人口密度作为一个变量"
   ]
  },
  {
   "cell_type": "code",
   "execution_count": 147,
   "metadata": {},
   "outputs": [
    {
     "data": {
      "text/plain": [
       "Index(['浦东', '宝山', '闵行', '嘉定', '松江', '普陀', '徐汇', '杨浦', '长宁', '闸北', '虹口', '黄浦',\n",
       "       '青浦', '静安'],\n",
       "      dtype='object')"
      ]
     },
     "execution_count": 147,
     "metadata": {},
     "output_type": "execute_result"
    }
   ],
   "source": [
    "data.district.value_counts().index"
   ]
  },
  {
   "cell_type": "markdown",
   "metadata": {},
   "source": [
    "### 上海各区人口密度（人/平方公里）"
   ]
  },
  {
   "cell_type": "code",
   "execution_count": 148,
   "metadata": {},
   "outputs": [],
   "source": [
    "#density = [4523,7465,6845,3378,2906,23491,19889,21657,18044,28609,34501,32190,1804,31089]\n",
    "#density_Series = Series(density,index=data.district.value_counts().index)"
   ]
  },
  {
   "cell_type": "code",
   "execution_count": 149,
   "metadata": {},
   "outputs": [],
   "source": [
    "#density_Series\n",
    "#data.insert(5,'人口密度',density_Series)\n",
    "data['density']=data['district']"
   ]
  },
  {
   "cell_type": "code",
   "execution_count": 150,
   "metadata": {},
   "outputs": [],
   "source": [
    "density_shift = {\n",
    "    '浦东':int(4523),\n",
    "    '宝山':int(1925),\n",
    "    '闵行':int(6845),\n",
    "    '嘉定':int(3378),\n",
    "    '松江':int(2906),\n",
    "    '普陀':int(23491),\n",
    "    '徐汇':int(19889),\n",
    "    '杨浦':int(21657),\n",
    "    '长宁':int(18044),\n",
    "    '闸北':int(28609),\n",
    "    '虹口':int(34501),\n",
    "    '黄浦':int(32190),\n",
    "    '青浦':int(1804),\n",
    "    '静安':int(31089)\n",
    "}"
   ]
  },
  {
   "cell_type": "code",
   "execution_count": 151,
   "metadata": {
    "scrolled": true
   },
   "outputs": [
    {
     "data": {
      "text/html": [
       "<div>\n",
       "<style scoped>\n",
       "    .dataframe tbody tr th:only-of-type {\n",
       "        vertical-align: middle;\n",
       "    }\n",
       "\n",
       "    .dataframe tbody tr th {\n",
       "        vertical-align: top;\n",
       "    }\n",
       "\n",
       "    .dataframe thead th {\n",
       "        text-align: right;\n",
       "    }\n",
       "</style>\n",
       "<table border=\"1\" class=\"dataframe\">\n",
       "  <thead>\n",
       "    <tr style=\"text-align: right;\">\n",
       "      <th></th>\n",
       "      <th>district</th>\n",
       "      <th>type</th>\n",
       "      <th>metro_num</th>\n",
       "      <th>S</th>\n",
       "      <th>mon_price</th>\n",
       "      <th>聚类类别</th>\n",
       "      <th>density</th>\n",
       "    </tr>\n",
       "  </thead>\n",
       "  <tbody>\n",
       "    <tr>\n",
       "      <th>0</th>\n",
       "      <td>徐汇</td>\n",
       "      <td>整租</td>\n",
       "      <td>173.0</td>\n",
       "      <td>42.00</td>\n",
       "      <td>4830</td>\n",
       "      <td>高端房源</td>\n",
       "      <td>19889</td>\n",
       "    </tr>\n",
       "    <tr>\n",
       "      <th>1</th>\n",
       "      <td>徐汇</td>\n",
       "      <td>整租</td>\n",
       "      <td>757.0</td>\n",
       "      <td>68.65</td>\n",
       "      <td>5130</td>\n",
       "      <td>高端房源</td>\n",
       "      <td>19889</td>\n",
       "    </tr>\n",
       "    <tr>\n",
       "      <th>2</th>\n",
       "      <td>徐汇</td>\n",
       "      <td>整租</td>\n",
       "      <td>236.0</td>\n",
       "      <td>30.37</td>\n",
       "      <td>4690</td>\n",
       "      <td>高端房源</td>\n",
       "      <td>19889</td>\n",
       "    </tr>\n",
       "    <tr>\n",
       "      <th>3</th>\n",
       "      <td>徐汇</td>\n",
       "      <td>整租</td>\n",
       "      <td>243.0</td>\n",
       "      <td>49.15</td>\n",
       "      <td>4790</td>\n",
       "      <td>高端房源</td>\n",
       "      <td>19889</td>\n",
       "    </tr>\n",
       "    <tr>\n",
       "      <th>4</th>\n",
       "      <td>徐汇</td>\n",
       "      <td>整租</td>\n",
       "      <td>488.0</td>\n",
       "      <td>33.17</td>\n",
       "      <td>4490</td>\n",
       "      <td>高端房源</td>\n",
       "      <td>19889</td>\n",
       "    </tr>\n",
       "  </tbody>\n",
       "</table>\n",
       "</div>"
      ],
      "text/plain": [
       "  district type  metro_num      S  mon_price  聚类类别  density\n",
       "0       徐汇   整租      173.0  42.00       4830  高端房源    19889\n",
       "1       徐汇   整租      757.0  68.65       5130  高端房源    19889\n",
       "2       徐汇   整租      236.0  30.37       4690  高端房源    19889\n",
       "3       徐汇   整租      243.0  49.15       4790  高端房源    19889\n",
       "4       徐汇   整租      488.0  33.17       4490  高端房源    19889"
      ]
     },
     "execution_count": 151,
     "metadata": {},
     "output_type": "execute_result"
    }
   ],
   "source": [
    "data['density'] = data['density'].map(density_shift)\n",
    "data.head()"
   ]
  },
  {
   "cell_type": "code",
   "execution_count": 152,
   "metadata": {
    "scrolled": false
   },
   "outputs": [
    {
     "name": "stdout",
     "output_type": "stream",
     "text": [
      "<class 'pandas.core.frame.DataFrame'>\n",
      "RangeIndex: 14034 entries, 0 to 14033\n",
      "Data columns (total 7 columns):\n",
      "district     14034 non-null object\n",
      "type         14034 non-null object\n",
      "metro_num    14034 non-null float64\n",
      "S            14034 non-null float64\n",
      "mon_price    14034 non-null int64\n",
      "聚类类别         14034 non-null object\n",
      "density      14034 non-null int64\n",
      "dtypes: float64(2), int64(2), object(3)\n",
      "memory usage: 767.6+ KB\n"
     ]
    }
   ],
   "source": [
    "data.info()"
   ]
  },
  {
   "cell_type": "code",
   "execution_count": 153,
   "metadata": {},
   "outputs": [
    {
     "data": {
      "text/html": [
       "<div>\n",
       "<style scoped>\n",
       "    .dataframe tbody tr th:only-of-type {\n",
       "        vertical-align: middle;\n",
       "    }\n",
       "\n",
       "    .dataframe tbody tr th {\n",
       "        vertical-align: top;\n",
       "    }\n",
       "\n",
       "    .dataframe thead th {\n",
       "        text-align: right;\n",
       "    }\n",
       "</style>\n",
       "<table border=\"1\" class=\"dataframe\">\n",
       "  <thead>\n",
       "    <tr style=\"text-align: right;\">\n",
       "      <th></th>\n",
       "      <th>metro_num</th>\n",
       "      <th>S</th>\n",
       "      <th>mon_price</th>\n",
       "      <th>density</th>\n",
       "    </tr>\n",
       "  </thead>\n",
       "  <tbody>\n",
       "    <tr>\n",
       "      <th>count</th>\n",
       "      <td>14033.000000</td>\n",
       "      <td>14033.000000</td>\n",
       "      <td>14033.000000</td>\n",
       "      <td>14033.000000</td>\n",
       "    </tr>\n",
       "    <tr>\n",
       "      <th>mean</th>\n",
       "      <td>813.880567</td>\n",
       "      <td>20.222236</td>\n",
       "      <td>2692.827621</td>\n",
       "      <td>10674.116012</td>\n",
       "    </tr>\n",
       "    <tr>\n",
       "      <th>std</th>\n",
       "      <td>505.221161</td>\n",
       "      <td>18.977513</td>\n",
       "      <td>1457.067357</td>\n",
       "      <td>10038.954507</td>\n",
       "    </tr>\n",
       "    <tr>\n",
       "      <th>min</th>\n",
       "      <td>18.000000</td>\n",
       "      <td>0.000000</td>\n",
       "      <td>790.000000</td>\n",
       "      <td>1804.000000</td>\n",
       "    </tr>\n",
       "    <tr>\n",
       "      <th>25%</th>\n",
       "      <td>418.000000</td>\n",
       "      <td>10.900000</td>\n",
       "      <td>1790.000000</td>\n",
       "      <td>2906.000000</td>\n",
       "    </tr>\n",
       "    <tr>\n",
       "      <th>50%</th>\n",
       "      <td>708.000000</td>\n",
       "      <td>13.200000</td>\n",
       "      <td>2290.000000</td>\n",
       "      <td>4523.000000</td>\n",
       "    </tr>\n",
       "    <tr>\n",
       "      <th>75%</th>\n",
       "      <td>1126.000000</td>\n",
       "      <td>17.000000</td>\n",
       "      <td>3030.000000</td>\n",
       "      <td>19889.000000</td>\n",
       "    </tr>\n",
       "    <tr>\n",
       "      <th>max</th>\n",
       "      <td>2475.000000</td>\n",
       "      <td>163.000000</td>\n",
       "      <td>16230.000000</td>\n",
       "      <td>34501.000000</td>\n",
       "    </tr>\n",
       "  </tbody>\n",
       "</table>\n",
       "</div>"
      ],
      "text/plain": [
       "          metro_num             S     mon_price       density\n",
       "count  14033.000000  14033.000000  14033.000000  14033.000000\n",
       "mean     813.880567     20.222236   2692.827621  10674.116012\n",
       "std      505.221161     18.977513   1457.067357  10038.954507\n",
       "min       18.000000      0.000000    790.000000   1804.000000\n",
       "25%      418.000000     10.900000   1790.000000   2906.000000\n",
       "50%      708.000000     13.200000   2290.000000   4523.000000\n",
       "75%     1126.000000     17.000000   3030.000000  19889.000000\n",
       "max     2475.000000    163.000000  16230.000000  34501.000000"
      ]
     },
     "execution_count": 153,
     "metadata": {},
     "output_type": "execute_result"
    }
   ],
   "source": [
    "data = data.drop(12438)\n",
    "data.describe()"
   ]
  },
  {
   "cell_type": "markdown",
   "metadata": {},
   "source": [
    "## 存储到csv"
   ]
  },
  {
   "cell_type": "code",
   "execution_count": 154,
   "metadata": {},
   "outputs": [],
   "source": [
    "housing = data.copy()"
   ]
  },
  {
   "cell_type": "code",
   "execution_count": 200,
   "metadata": {},
   "outputs": [],
   "source": [
    "housing.to_csv('./data/shanghai_housing_density.csv')"
   ]
  },
  {
   "cell_type": "markdown",
   "metadata": {},
   "source": [
    "---"
   ]
  },
  {
   "cell_type": "markdown",
   "metadata": {},
   "source": [
    "# 数据探索"
   ]
  },
  {
   "cell_type": "code",
   "execution_count": 156,
   "metadata": {},
   "outputs": [
    {
     "data": {
      "image/png": "[encoded data removed]",
      "text/plain": [
       "<matplotlib.figure.Figure at 0x25903d70518>"
      ]
     },
     "metadata": {
      "needs_background": "light"
     },
     "output_type": "display_data"
    }
   ],
   "source": [
    "%matplotlib inline\n",
    "import matplotlib.pyplot as plt\n",
    "housing.hist(bins=50, figsize=(8,5))\n",
    "plt.show()"
   ]
  },
  {
   "cell_type": "markdown",
   "metadata": {},
   "source": [
    "## 相关性分析"
   ]
  },
  {
   "cell_type": "markdown",
   "metadata": {},
   "source": [
    "### 查找关联"
   ]
  },
  {
   "cell_type": "code",
   "execution_count": 157,
   "metadata": {},
   "outputs": [],
   "source": [
    "corr_matrix = housing.corr()"
   ]
  },
  {
   "cell_type": "code",
   "execution_count": 158,
   "metadata": {
    "scrolled": true
   },
   "outputs": [
    {
     "data": {
      "text/plain": [
       "mon_price    1.000000\n",
       "S            0.810250\n",
       "density      0.410529\n",
       "metro_num   -0.303689\n",
       "Name: mon_price, dtype: float64"
      ]
     },
     "execution_count": 158,
     "metadata": {},
     "output_type": "execute_result"
    }
   ],
   "source": [
    "corr_matrix[\"mon_price\"].sort_values(ascending=False)"
   ]
  },
  {
   "cell_type": "markdown",
   "metadata": {},
   "source": [
    "### 散点矩阵"
   ]
  },
  {
   "cell_type": "code",
   "execution_count": 159,
   "metadata": {},
   "outputs": [
    {
     "data": {
      "image/png": "[encoded data removed]",
      "text/plain": [
       "<matplotlib.figure.Figure at 0x25903b5f240>"
      ]
     },
     "metadata": {
      "needs_background": "light"
     },
     "output_type": "display_data"
    }
   ],
   "source": [
    "# from pandas.tools.plotting import scatter_matrix # For older versions of Pandas\n",
    "from pandas.plotting import scatter_matrix\n",
    "# metro_num S mon_price聚类类别人口密度\n",
    "attributes = ['metro_num','S','mon_price','density']\n",
    "scatter_matrix(housing[attributes], figsize=(12, 8))\n",
    "plt.show()"
   ]
  },
  {
   "cell_type": "code",
   "execution_count": 160,
   "metadata": {},
   "outputs": [
    {
     "data": {
      "image/png": "[encoded data removed]",
      "text/plain": [
       "<matplotlib.figure.Figure at 0x25903eeef60>"
      ]
     },
     "metadata": {
      "needs_background": "light"
     },
     "output_type": "display_data"
    }
   ],
   "source": [
    "housing.plot(kind=\"scatter\", x=\"S\", y=\"mon_price\",alpha=0.2)\n",
    "plt.show()"
   ]
  },
  {
   "cell_type": "markdown",
   "metadata": {},
   "source": [
    " - **月租价格**与**面积**相关度最大，与**人口密度**有相关性，与**距离地铁站距离**负相关"
   ]
  },
  {
   "cell_type": "markdown",
   "metadata": {},
   "source": [
    "# 划分训练集和测试集"
   ]
  },
  {
   "cell_type": "code",
   "execution_count": 161,
   "metadata": {},
   "outputs": [],
   "source": [
    "from sklearn.model_selection import train_test_split\n",
    "\n",
    "train_set, test_set = train_test_split(housing, test_size=0.2, random_state=42)"
   ]
  },
  {
   "cell_type": "code",
   "execution_count": 162,
   "metadata": {},
   "outputs": [],
   "source": [
    "#train_set['district'].value_counts()"
   ]
  },
  {
   "cell_type": "markdown",
   "metadata": {},
   "source": [
    "# 为机器学习算法准备数据"
   ]
  },
  {
   "cell_type": "code",
   "execution_count": 163,
   "metadata": {
    "scrolled": true
   },
   "outputs": [
    {
     "data": {
      "text/html": [
       "<div>\n",
       "<style scoped>\n",
       "    .dataframe tbody tr th:only-of-type {\n",
       "        vertical-align: middle;\n",
       "    }\n",
       "\n",
       "    .dataframe tbody tr th {\n",
       "        vertical-align: top;\n",
       "    }\n",
       "\n",
       "    .dataframe thead th {\n",
       "        text-align: right;\n",
       "    }\n",
       "</style>\n",
       "<table border=\"1\" class=\"dataframe\">\n",
       "  <thead>\n",
       "    <tr style=\"text-align: right;\">\n",
       "      <th></th>\n",
       "      <th>district</th>\n",
       "      <th>type</th>\n",
       "      <th>metro_num</th>\n",
       "      <th>S</th>\n",
       "      <th>聚类类别</th>\n",
       "      <th>density</th>\n",
       "    </tr>\n",
       "  </thead>\n",
       "  <tbody>\n",
       "    <tr>\n",
       "      <th>7971</th>\n",
       "      <td>黄浦</td>\n",
       "      <td>合租</td>\n",
       "      <td>72.0</td>\n",
       "      <td>15.0</td>\n",
       "      <td>交通便利普通</td>\n",
       "      <td>32190</td>\n",
       "    </tr>\n",
       "    <tr>\n",
       "      <th>11591</th>\n",
       "      <td>松江</td>\n",
       "      <td>合租</td>\n",
       "      <td>652.0</td>\n",
       "      <td>9.5</td>\n",
       "      <td>交通一般普通</td>\n",
       "      <td>2906</td>\n",
       "    </tr>\n",
       "    <tr>\n",
       "      <th>4949</th>\n",
       "      <td>嘉定</td>\n",
       "      <td>合租</td>\n",
       "      <td>218.0</td>\n",
       "      <td>8.1</td>\n",
       "      <td>交通便利普通</td>\n",
       "      <td>3378</td>\n",
       "    </tr>\n",
       "    <tr>\n",
       "      <th>11527</th>\n",
       "      <td>松江</td>\n",
       "      <td>合租</td>\n",
       "      <td>1352.0</td>\n",
       "      <td>13.2</td>\n",
       "      <td>交通不便普通</td>\n",
       "      <td>2906</td>\n",
       "    </tr>\n",
       "    <tr>\n",
       "      <th>8678</th>\n",
       "      <td>闵行</td>\n",
       "      <td>合租</td>\n",
       "      <td>1070.0</td>\n",
       "      <td>14.1</td>\n",
       "      <td>交通一般普通</td>\n",
       "      <td>6845</td>\n",
       "    </tr>\n",
       "  </tbody>\n",
       "</table>\n",
       "</div>"
      ],
      "text/plain": [
       "      district type  metro_num     S    聚类类别  density\n",
       "7971        黄浦   合租       72.0  15.0  交通便利普通    32190\n",
       "11591       松江   合租      652.0   9.5  交通一般普通     2906\n",
       "4949        嘉定   合租      218.0   8.1  交通便利普通     3378\n",
       "11527       松江   合租     1352.0  13.2  交通不便普通     2906\n",
       "8678        闵行   合租     1070.0  14.1  交通一般普通     6845"
      ]
     },
     "execution_count": 163,
     "metadata": {},
     "output_type": "execute_result"
    }
   ],
   "source": [
    "housing_train = train_set.drop(\"mon_price\",axis=1)\n",
    "housing_train.head()"
   ]
  },
  {
   "cell_type": "code",
   "execution_count": 164,
   "metadata": {},
   "outputs": [],
   "source": [
    "housing_cat = housing_train[['聚类类别']]\n",
    "housing_num = housing_train[['metro_num','S','density']]"
   ]
  },
  {
   "cell_type": "code",
   "execution_count": 165,
   "metadata": {},
   "outputs": [
    {
     "data": {
      "text/plain": [
       "array([[0., 0., 1., 0., 0.],\n",
       "       [1., 0., 0., 0., 0.],\n",
       "       [0., 0., 1., 0., 0.],\n",
       "       ...,\n",
       "       [0., 0., 1., 0., 0.],\n",
       "       [0., 0., 0., 1., 0.],\n",
       "       [1., 0., 0., 0., 0.]])"
      ]
     },
     "execution_count": 165,
     "metadata": {},
     "output_type": "execute_result"
    }
   ],
   "source": [
    "from sklearn.preprocessing import Imputer\n",
    "from sklearn.preprocessing import OneHotEncoder\n",
    "\n",
    "cat_encoder = OneHotEncoder()\n",
    "housing_cat_train = cat_encoder.fit_transform(housing_cat).toarray()\n",
    "housing_cat_train"
   ]
  },
  {
   "cell_type": "code",
   "execution_count": 166,
   "metadata": {},
   "outputs": [
    {
     "data": {
      "text/plain": [
       "[array(['交通一般普通', '交通不便普通', '交通便利普通', '豪宅', '高端房源'], dtype=object)]"
      ]
     },
     "execution_count": 166,
     "metadata": {},
     "output_type": "execute_result"
    }
   ],
   "source": [
    "cat_encoder.categories_"
   ]
  },
  {
   "cell_type": "markdown",
   "metadata": {},
   "source": [
    "## 标准化后的数据"
   ]
  },
  {
   "cell_type": "code",
   "execution_count": 167,
   "metadata": {
    "scrolled": true
   },
   "outputs": [
    {
     "name": "stderr",
     "output_type": "stream",
     "text": [
      "C:\\Users\\13626\\Anaconda3\\lib\\site-packages\\sklearn\\preprocessing\\data.py:617: DataConversionWarning: Data with input dtype int64, float64 were all converted to float64 by StandardScaler.\n",
      "  return self.partial_fit(X, y)\n",
      "C:\\Users\\13626\\Anaconda3\\lib\\site-packages\\sklearn\\base.py:462: DataConversionWarning: Data with input dtype int64, float64 were all converted to float64 by StandardScaler.\n",
      "  return self.fit(X, **fit_params).transform(X)\n"
     ]
    }
   ],
   "source": [
    "from sklearn.preprocessing import StandardScaler\n",
    "\n",
    "std_scaler = StandardScaler()\n",
    "\n",
    "housing_num_train = std_scaler.fit_transform(housing_num)"
   ]
  },
  {
   "cell_type": "code",
   "execution_count": 168,
   "metadata": {
    "scrolled": true
   },
   "outputs": [
    {
     "data": {
      "text/plain": [
       "array([[-1.46991225, -0.27189234,  2.13633444],\n",
       "       [-0.32058467, -0.56252742, -0.77619173],\n",
       "       [-1.18059875, -0.63650726, -0.72924759],\n",
       "       ...,\n",
       "       [-0.74266531, -0.02353145, -0.77619173],\n",
       "       [-0.95271484,  3.65802243, -0.61536825],\n",
       "       [-0.20367031, -0.29831371, -0.87375997]])"
      ]
     },
     "execution_count": 168,
     "metadata": {},
     "output_type": "execute_result"
    }
   ],
   "source": [
    "housing_num_train"
   ]
  },
  {
   "cell_type": "code",
   "execution_count": 169,
   "metadata": {},
   "outputs": [],
   "source": [
    "#std_scaler.inverse_transform(housing_num_train,copy=True)\n",
    "# 反标准化"
   ]
  },
  {
   "cell_type": "markdown",
   "metadata": {},
   "source": [
    "## 准备好的训练数据"
   ]
  },
  {
   "cell_type": "code",
   "execution_count": 170,
   "metadata": {},
   "outputs": [
    {
     "name": "stderr",
     "output_type": "stream",
     "text": [
      "C:\\Users\\13626\\Anaconda3\\lib\\site-packages\\sklearn\\preprocessing\\data.py:617: DataConversionWarning: Data with input dtype int64, float64 were all converted to float64 by StandardScaler.\n",
      "  return self.partial_fit(X, y)\n",
      "C:\\Users\\13626\\Anaconda3\\lib\\site-packages\\sklearn\\base.py:462: DataConversionWarning: Data with input dtype int64, float64 were all converted to float64 by StandardScaler.\n",
      "  return self.fit(X, **fit_params).transform(X)\n",
      "C:\\Users\\13626\\Anaconda3\\lib\\site-packages\\sklearn\\preprocessing\\data.py:617: DataConversionWarning: Data with input dtype int64, float64 were all converted to float64 by StandardScaler.\n",
      "  return self.partial_fit(X, y)\n",
      "C:\\Users\\13626\\Anaconda3\\lib\\site-packages\\sklearn\\base.py:462: DataConversionWarning: Data with input dtype int64, float64 were all converted to float64 by StandardScaler.\n",
      "  return self.fit(X, **fit_params).transform(X)\n"
     ]
    }
   ],
   "source": [
    "from sklearn.compose import ColumnTransformer\n",
    "\n",
    "num_attribs = list(housing_num)\n",
    "cat_attribs = [\"聚类类别\"]\n",
    "\n",
    "full_pipeline = ColumnTransformer([\n",
    "        (\"num\", StandardScaler(), num_attribs),\n",
    "        (\"cat\", OneHotEncoder(), cat_attribs),\n",
    "    ])\n",
    "\n",
    "housing_prepared = full_pipeline.fit_transform(housing_train)\n",
    "#housing_prepared\n",
    "housing_test = full_pipeline.fit_transform(housing_test)"
   ]
  },
  {
   "cell_type": "code",
   "execution_count": 171,
   "metadata": {},
   "outputs": [
    {
     "data": {
      "text/plain": [
       "array([3960, 1330, 1890, ..., 1960, 7790, 2090], dtype=int64)"
      ]
     },
     "execution_count": 171,
     "metadata": {},
     "output_type": "execute_result"
    }
   ],
   "source": [
    "#std_scaler.inverse_transform(housing_num_train,copy=True)\n",
    "# 反标准化\n",
    "price_label = train_set['mon_price'].values\n",
    "price_label"
   ]
  },
  {
   "cell_type": "code",
   "execution_count": 172,
   "metadata": {},
   "outputs": [
    {
     "data": {
      "text/plain": [
       "(11226, 8)"
      ]
     },
     "execution_count": 172,
     "metadata": {},
     "output_type": "execute_result"
    }
   ],
   "source": [
    "housing_prepared.shape"
   ]
  },
  {
   "cell_type": "code",
   "execution_count": 173,
   "metadata": {},
   "outputs": [
    {
     "data": {
      "text/plain": [
       "(11226,)"
      ]
     },
     "execution_count": 173,
     "metadata": {},
     "output_type": "execute_result"
    }
   ],
   "source": [
    "price_label.shape"
   ]
  },
  {
   "cell_type": "markdown",
   "metadata": {},
   "source": [
    "# 线性回归模型"
   ]
  },
  {
   "cell_type": "code",
   "execution_count": 174,
   "metadata": {},
   "outputs": [
    {
     "data": {
      "text/plain": [
       "LinearRegression(copy_X=True, fit_intercept=True, n_jobs=None,\n",
       "         normalize=False)"
      ]
     },
     "execution_count": 174,
     "metadata": {},
     "output_type": "execute_result"
    }
   ],
   "source": [
    "from sklearn.linear_model import LinearRegression\n",
    "\n",
    "lin_reg = LinearRegression()\n",
    "lin_reg.fit(housing_prepared, price_label)"
   ]
  },
  {
   "cell_type": "markdown",
   "metadata": {},
   "source": [
    "### 误差检验"
   ]
  },
  {
   "cell_type": "markdown",
   "metadata": {},
   "source": [
    "计算回归模型的**RMSE**"
   ]
  },
  {
   "cell_type": "code",
   "execution_count": 175,
   "metadata": {},
   "outputs": [
    {
     "data": {
      "text/plain": [
       "619.4860434771081"
      ]
     },
     "execution_count": 175,
     "metadata": {},
     "output_type": "execute_result"
    }
   ],
   "source": [
    "from sklearn.metrics import mean_squared_error\n",
    "import numpy as np\n",
    "\n",
    "price_pred_lin = lin_reg.predict(housing_prepared)\n",
    "lin_mse = mean_squared_error(price_label, price_pred_lin)\n",
    "lin_rmse = np.sqrt(lin_mse)\n",
    "lin_rmse"
   ]
  },
  {
   "cell_type": "markdown",
   "metadata": {},
   "source": [
    "线性回归模型误差约为：**621.4**"
   ]
  },
  {
   "cell_type": "markdown",
   "metadata": {},
   "source": [
    "---"
   ]
  },
  {
   "cell_type": "markdown",
   "metadata": {},
   "source": [
    "# 决策树模型"
   ]
  },
  {
   "cell_type": "code",
   "execution_count": 176,
   "metadata": {},
   "outputs": [
    {
     "data": {
      "text/plain": [
       "DecisionTreeRegressor(criterion='mse', max_depth=None, max_features=None,\n",
       "           max_leaf_nodes=None, min_impurity_decrease=0.0,\n",
       "           min_impurity_split=None, min_samples_leaf=1,\n",
       "           min_samples_split=2, min_weight_fraction_leaf=0.0,\n",
       "           presort=False, random_state=42, splitter='best')"
      ]
     },
     "execution_count": 176,
     "metadata": {},
     "output_type": "execute_result"
    }
   ],
   "source": [
    "from sklearn.tree import DecisionTreeRegressor\n",
    "\n",
    "tree_reg = DecisionTreeRegressor(random_state=42)\n",
    "tree_reg.fit(housing_prepared, price_label)"
   ]
  },
  {
   "cell_type": "markdown",
   "metadata": {},
   "source": [
    "### 误差检验"
   ]
  },
  {
   "cell_type": "code",
   "execution_count": 177,
   "metadata": {},
   "outputs": [
    {
     "data": {
      "text/plain": [
       "57.754200691567966"
      ]
     },
     "execution_count": 177,
     "metadata": {},
     "output_type": "execute_result"
    }
   ],
   "source": [
    "price_pred_tree = tree_reg.predict(housing_prepared)\n",
    "tree_mse = mean_squared_error(price_label, price_pred_tree)\n",
    "tree_rmse = np.sqrt(tree_mse)\n",
    "tree_rmse"
   ]
  },
  {
   "cell_type": "markdown",
   "metadata": {},
   "source": [
    "决策树模型误差仅仅为：**57.68**???"
   ]
  },
  {
   "cell_type": "markdown",
   "metadata": {},
   "source": [
    "很大可能是**过拟合**了"
   ]
  },
  {
   "cell_type": "markdown",
   "metadata": {},
   "source": [
    "### 交叉验证"
   ]
  },
  {
   "cell_type": "code",
   "execution_count": 178,
   "metadata": {},
   "outputs": [],
   "source": [
    "from sklearn.model_selection import cross_val_score\n",
    "\n",
    "scores = cross_val_score(tree_reg, housing_prepared, price_label,\n",
    "                         scoring=\"neg_mean_squared_error\", cv=10)\n",
    "tree_rmse_scores = np.sqrt(-scores)"
   ]
  },
  {
   "cell_type": "code",
   "execution_count": 179,
   "metadata": {
    "scrolled": true
   },
   "outputs": [
    {
     "name": "stdout",
     "output_type": "stream",
     "text": [
      "Scores: [555.42821264 531.52694315 580.31122342 578.67256075 516.70837781\n",
      " 574.19652582 595.41050307 584.89648979 611.0328102  678.94743653]\n",
      "Mean: 580.7131083188319\n",
      "Standard deviation: 42.43204351633885\n"
     ]
    }
   ],
   "source": [
    "def display_scores(scores):\n",
    "    print(\"Scores:\", scores)\n",
    "    print(\"Mean:\", scores.mean())\n",
    "    print(\"Standard deviation:\", scores.std())\n",
    "\n",
    "display_scores(tree_rmse_scores)"
   ]
  },
  {
   "cell_type": "markdown",
   "metadata": {},
   "source": [
    "交叉验证平均误差：**577.89**"
   ]
  },
  {
   "cell_type": "markdown",
   "metadata": {},
   "source": [
    "---"
   ]
  },
  {
   "cell_type": "markdown",
   "metadata": {},
   "source": [
    "# 随机森林"
   ]
  },
  {
   "cell_type": "code",
   "execution_count": 180,
   "metadata": {},
   "outputs": [
    {
     "name": "stderr",
     "output_type": "stream",
     "text": [
      "C:\\Users\\13626\\Anaconda3\\lib\\site-packages\\sklearn\\ensemble\\forest.py:248: FutureWarning: The default value of n_estimators will change from 10 in version 0.20 to 100 in 0.22.\n",
      "  \"10 in version 0.20 to 100 in 0.22.\", FutureWarning)\n"
     ]
    },
    {
     "data": {
      "text/plain": [
       "RandomForestRegressor(bootstrap=True, criterion='mse', max_depth=None,\n",
       "           max_features='auto', max_leaf_nodes=None,\n",
       "           min_impurity_decrease=0.0, min_impurity_split=None,\n",
       "           min_samples_leaf=1, min_samples_split=2,\n",
       "           min_weight_fraction_leaf=0.0, n_estimators=10, n_jobs=None,\n",
       "           oob_score=False, random_state=42, verbose=0, warm_start=False)"
      ]
     },
     "execution_count": 180,
     "metadata": {},
     "output_type": "execute_result"
    }
   ],
   "source": [
    "from sklearn.ensemble import RandomForestRegressor\n",
    "\n",
    "forest_reg = RandomForestRegressor(random_state=42)\n",
    "forest_reg.fit(housing_prepared, price_label)"
   ]
  },
  {
   "cell_type": "code",
   "execution_count": 181,
   "metadata": {},
   "outputs": [
    {
     "data": {
      "text/plain": [
       "208.51535914693386"
      ]
     },
     "execution_count": 181,
     "metadata": {},
     "output_type": "execute_result"
    }
   ],
   "source": [
    "price_pred_forest = forest_reg.predict(housing_prepared)\n",
    "forest_mse = mean_squared_error(price_label, price_pred_forest)\n",
    "forest_rmse = np.sqrt(forest_mse)\n",
    "forest_rmse"
   ]
  },
  {
   "cell_type": "markdown",
   "metadata": {},
   "source": [
    "同样判断为模型**过拟合**了"
   ]
  },
  {
   "cell_type": "markdown",
   "metadata": {},
   "source": [
    "### 交叉验证"
   ]
  },
  {
   "cell_type": "code",
   "execution_count": 182,
   "metadata": {},
   "outputs": [
    {
     "name": "stdout",
     "output_type": "stream",
     "text": [
      "Scores: [434.71351398 445.15553872 443.32067289 449.21180069 414.23841679\n",
      " 510.592366   510.24339457 487.70141699 459.18825559 603.27791325]\n",
      "Mean: 475.76432894790594\n",
      "Standard deviation: 52.19569472820684\n"
     ]
    }
   ],
   "source": [
    "from sklearn.model_selection import cross_val_score\n",
    "\n",
    "forest_scores = cross_val_score(forest_reg, housing_prepared, price_label,\n",
    "                                scoring=\"neg_mean_squared_error\", cv=10)\n",
    "forest_rmse_scores = np.sqrt(-forest_scores)\n",
    "display_scores(forest_rmse_scores)"
   ]
  },
  {
   "cell_type": "markdown",
   "metadata": {},
   "source": [
    "交叉验证平均误差：**479.76**"
   ]
  },
  {
   "cell_type": "markdown",
   "metadata": {},
   "source": [
    "**随机森林效果最好。**"
   ]
  },
  {
   "cell_type": "markdown",
   "metadata": {},
   "source": [
    "解决过拟合可以通过**简化模型**，给模型加限制（**规整化**），或**用更多的训练数据**。"
   ]
  },
  {
   "cell_type": "markdown",
   "metadata": {},
   "source": [
    "---"
   ]
  },
  {
   "cell_type": "markdown",
   "metadata": {},
   "source": [
    "# 基于最优模型的参数微调"
   ]
  },
  {
   "cell_type": "code",
   "execution_count": 183,
   "metadata": {
    "scrolled": false
   },
   "outputs": [
    {
     "data": {
      "text/plain": [
       "GridSearchCV(cv=5, error_score='raise-deprecating',\n",
       "       estimator=RandomForestRegressor(bootstrap=True, criterion='mse', max_depth=None,\n",
       "           max_features='auto', max_leaf_nodes=None,\n",
       "           min_impurity_decrease=0.0, min_impurity_split=None,\n",
       "           min_samples_leaf=1, min_samples_split=2,\n",
       "           min_weight_fraction_leaf=0.0, n_estimators='warn', n_jobs=None,\n",
       "           oob_score=False, random_state=42, verbose=0, warm_start=False),\n",
       "       fit_params=None, iid='warn', n_jobs=None,\n",
       "       param_grid=[{'n_estimators': [3, 10, 30], 'max_features': [2, 4, 6, 8]}, {'bootstrap': [False], 'n_estimators': [3, 10], 'max_features': [2, 3, 4]}],\n",
       "       pre_dispatch='2*n_jobs', refit=True, return_train_score=True,\n",
       "       scoring='neg_mean_squared_error', verbose=0)"
      ]
     },
     "execution_count": 183,
     "metadata": {},
     "output_type": "execute_result"
    }
   ],
   "source": [
    "from sklearn.model_selection import GridSearchCV\n",
    "\n",
    "param_grid = [\n",
    "    # try 12 (3×4) combinations of hyperparameters\n",
    "    {'n_estimators': [3, 10, 30], 'max_features': [2, 4, 6, 8]},\n",
    "    # then try 6 (2×3) combinations with bootstrap set as False\n",
    "    {'bootstrap': [False], 'n_estimators': [3, 10], 'max_features': [2, 3, 4]},\n",
    "  ]\n",
    "\n",
    "forest_reg = RandomForestRegressor(random_state=42)\n",
    "# train across 5 folds, that's a total of (12+6)*5=90 rounds of training \n",
    "grid_search = GridSearchCV(forest_reg, param_grid, cv=5,\n",
    "                           scoring='neg_mean_squared_error', return_train_score=True)\n",
    "grid_search.fit(housing_prepared, price_label)"
   ]
  },
  {
   "cell_type": "markdown",
   "metadata": {},
   "source": [
    "### 获取最优参数"
   ]
  },
  {
   "cell_type": "code",
   "execution_count": 184,
   "metadata": {},
   "outputs": [
    {
     "data": {
      "text/plain": [
       "{'max_features': 2, 'n_estimators': 30}"
      ]
     },
     "execution_count": 184,
     "metadata": {},
     "output_type": "execute_result"
    }
   ],
   "source": [
    "grid_search.best_params_"
   ]
  },
  {
   "cell_type": "markdown",
   "metadata": {},
   "source": [
    "### 显示全部参数和结果"
   ]
  },
  {
   "cell_type": "code",
   "execution_count": 185,
   "metadata": {
    "scrolled": true
   },
   "outputs": [
    {
     "data": {
      "text/plain": [
       "RandomForestRegressor(bootstrap=True, criterion='mse', max_depth=None,\n",
       "           max_features=2, max_leaf_nodes=None, min_impurity_decrease=0.0,\n",
       "           min_impurity_split=None, min_samples_leaf=1,\n",
       "           min_samples_split=2, min_weight_fraction_leaf=0.0,\n",
       "           n_estimators=30, n_jobs=None, oob_score=False, random_state=42,\n",
       "           verbose=0, warm_start=False)"
      ]
     },
     "execution_count": 185,
     "metadata": {},
     "output_type": "execute_result"
    }
   ],
   "source": [
    "grid_search.best_estimator_"
   ]
  },
  {
   "cell_type": "code",
   "execution_count": 186,
   "metadata": {},
   "outputs": [
    {
     "name": "stdout",
     "output_type": "stream",
     "text": [
      "513.782573995441 {'max_features': 2, 'n_estimators': 3}\n",
      "464.75789280396117 {'max_features': 2, 'n_estimators': 10}\n",
      "454.11048361206787 {'max_features': 2, 'n_estimators': 30}\n",
      "504.80391277147385 {'max_features': 4, 'n_estimators': 3}\n",
      "465.52816089720807 {'max_features': 4, 'n_estimators': 10}\n",
      "456.4616234634778 {'max_features': 4, 'n_estimators': 30}\n",
      "508.23321303115705 {'max_features': 6, 'n_estimators': 3}\n",
      "468.42782695338843 {'max_features': 6, 'n_estimators': 10}\n",
      "456.7671034691555 {'max_features': 6, 'n_estimators': 30}\n",
      "521.0781528922561 {'max_features': 8, 'n_estimators': 3}\n",
      "481.84739751238715 {'max_features': 8, 'n_estimators': 10}\n",
      "469.1520653376667 {'max_features': 8, 'n_estimators': 30}\n",
      "497.87026981440385 {'bootstrap': False, 'max_features': 2, 'n_estimators': 3}\n",
      "473.0609512013673 {'bootstrap': False, 'max_features': 2, 'n_estimators': 10}\n",
      "510.9051519346628 {'bootstrap': False, 'max_features': 3, 'n_estimators': 3}\n",
      "472.6190988407387 {'bootstrap': False, 'max_features': 3, 'n_estimators': 10}\n",
      "515.5624141179959 {'bootstrap': False, 'max_features': 4, 'n_estimators': 3}\n",
      "476.7813900179329 {'bootstrap': False, 'max_features': 4, 'n_estimators': 10}\n"
     ]
    }
   ],
   "source": [
    "cvres = grid_search.cv_results_\n",
    "for mean_score, params in zip(cvres[\"mean_test_score\"], cvres[\"params\"]):\n",
    "    print(np.sqrt(-mean_score), params)"
   ]
  },
  {
   "cell_type": "markdown",
   "metadata": {},
   "source": [
    "**max_features: 2**, **n_estimators: 30**时效果最好，此时模型误差为**451.98**"
   ]
  },
  {
   "cell_type": "markdown",
   "metadata": {},
   "source": [
    "### 将参数返回到随机森林模型中"
   ]
  },
  {
   "cell_type": "code",
   "execution_count": 187,
   "metadata": {},
   "outputs": [
    {
     "data": {
      "text/plain": [
       "RandomForestRegressor(bootstrap=True, criterion='mse', max_depth=None,\n",
       "           max_features=2, max_leaf_nodes=None, min_impurity_decrease=0.0,\n",
       "           min_impurity_split=None, min_samples_leaf=1,\n",
       "           min_samples_split=2, min_weight_fraction_leaf=0.0,\n",
       "           n_estimators=30, n_jobs=None, oob_score=False, random_state=42,\n",
       "           verbose=0, warm_start=False)"
      ]
     },
     "execution_count": 187,
     "metadata": {},
     "output_type": "execute_result"
    }
   ],
   "source": [
    "from sklearn.ensemble import RandomForestRegressor\n",
    "\n",
    "forest_reg_modified = RandomForestRegressor(max_features=2, n_estimators=30,random_state=42)\n",
    "forest_reg_modified.fit(housing_prepared, price_label)"
   ]
  },
  {
   "cell_type": "code",
   "execution_count": 188,
   "metadata": {},
   "outputs": [
    {
     "data": {
      "text/plain": [
       "183.35075180410323"
      ]
     },
     "execution_count": 188,
     "metadata": {},
     "output_type": "execute_result"
    }
   ],
   "source": [
    "price_pred_forest_modified = forest_reg_modified.predict(housing_prepared)\n",
    "forest_mse_modified = mean_squared_error(price_label, price_pred_forest_modified)\n",
    "forest_rmse_modified = np.sqrt(forest_mse_modified)\n",
    "forest_rmse_modified"
   ]
  },
  {
   "cell_type": "code",
   "execution_count": 189,
   "metadata": {},
   "outputs": [
    {
     "name": "stdout",
     "output_type": "stream",
     "text": [
      "Scores: [414.94466976 443.17697655 430.17832777 426.95750187 408.65433561\n",
      " 481.16576524 483.71085492 441.59360514 447.76356579 526.44574731]\n",
      "Mean: 450.45913499792533\n",
      "Standard deviation: 34.54560638929374\n"
     ]
    }
   ],
   "source": [
    "from sklearn.model_selection import cross_val_score\n",
    "\n",
    "forest_scores_modified = cross_val_score(forest_reg_modified, housing_prepared, price_label,\n",
    "                                scoring=\"neg_mean_squared_error\", cv=10)\n",
    "forest_rmse_scores_modified = np.sqrt(-forest_scores_modified)\n",
    "display_scores(forest_rmse_scores_modified)"
   ]
  },
  {
   "cell_type": "markdown",
   "metadata": {},
   "source": [
    "**参数调整后误差降低了**"
   ]
  },
  {
   "cell_type": "markdown",
   "metadata": {},
   "source": [
    "---"
   ]
  },
  {
   "cell_type": "markdown",
   "metadata": {},
   "source": [
    "## 查看各变量的重要度"
   ]
  },
  {
   "cell_type": "code",
   "execution_count": 190,
   "metadata": {},
   "outputs": [
    {
     "data": {
      "text/plain": [
       "array([0.0882774 , 0.40455893, 0.13719809, 0.0319085 , 0.02164429,\n",
       "       0.02681525, 0.18520118, 0.10439636])"
      ]
     },
     "execution_count": 190,
     "metadata": {},
     "output_type": "execute_result"
    }
   ],
   "source": [
    "feature_importances = grid_search.best_estimator_.feature_importances_\n",
    "feature_importances"
   ]
  },
  {
   "cell_type": "code",
   "execution_count": 191,
   "metadata": {
    "scrolled": true
   },
   "outputs": [
    {
     "data": {
      "text/plain": [
       "[(0.40455893315529806, 'S'),\n",
       " (0.18520117545360623, '豪宅'),\n",
       " (0.1371980899673283, 'density'),\n",
       " (0.10439636016140152, '高端房源'),\n",
       " (0.08827740227488713, 'metro_num'),\n",
       " (0.0319085018586704, '交通一般普通'),\n",
       " (0.02681524689603492, '交通便利普通'),\n",
       " (0.02164429023277349, '交通不便普通')]"
      ]
     },
     "execution_count": 191,
     "metadata": {},
     "output_type": "execute_result"
    }
   ],
   "source": [
    "#extra_attribs = [\"rooms_per_hhold\", \"pop_per_hhold\", \"bedrooms_per_room\"]\n",
    "#cat_encoder = cat_pipeline.named_steps[\"cat_encoder\"] # old solution\n",
    "cat_encoder = full_pipeline.named_transformers_[\"cat\"]\n",
    "cat_one_hot_attribs = list(cat_encoder.categories_[0])\n",
    "attributes = num_attribs + cat_one_hot_attribs\n",
    "sorted(zip(feature_importances, attributes), reverse=True)"
   ]
  },
  {
   "cell_type": "markdown",
   "metadata": {},
   "source": [
    "### 变量重要性分析"
   ]
  },
  {
   "cell_type": "markdown",
   "metadata": {},
   "source": [
    "- **房源面积**对月租金有着极大的影响度。"
   ]
  },
  {
   "cell_type": "markdown",
   "metadata": {},
   "source": [
    "- 类型为**豪宅**和**高端房源**的房源月租金往往都会比较高。"
   ]
  },
  {
   "cell_type": "markdown",
   "metadata": {},
   "source": [
    "- **人口密度**（即：**不同管辖区/商区**）对月租金影响较大。人口密度更大的**区**，房源租金会更大。"
   ]
  },
  {
   "cell_type": "markdown",
   "metadata": {},
   "source": [
    "- **与地铁的距离**（即：**交通属性**）一定程度上影响月租金价格。"
   ]
  },
  {
   "cell_type": "markdown",
   "metadata": {},
   "source": [
    "---"
   ]
  },
  {
   "cell_type": "markdown",
   "metadata": {},
   "source": [
    "# 模型在测试集上的表现"
   ]
  },
  {
   "cell_type": "code",
   "execution_count": 193,
   "metadata": {},
   "outputs": [
    {
     "data": {
      "text/html": [
       "<div>\n",
       "<style scoped>\n",
       "    .dataframe tbody tr th:only-of-type {\n",
       "        vertical-align: middle;\n",
       "    }\n",
       "\n",
       "    .dataframe tbody tr th {\n",
       "        vertical-align: top;\n",
       "    }\n",
       "\n",
       "    .dataframe thead th {\n",
       "        text-align: right;\n",
       "    }\n",
       "</style>\n",
       "<table border=\"1\" class=\"dataframe\">\n",
       "  <thead>\n",
       "    <tr style=\"text-align: right;\">\n",
       "      <th></th>\n",
       "      <th>district</th>\n",
       "      <th>type</th>\n",
       "      <th>metro_num</th>\n",
       "      <th>S</th>\n",
       "      <th>聚类类别</th>\n",
       "      <th>density</th>\n",
       "    </tr>\n",
       "  </thead>\n",
       "  <tbody>\n",
       "    <tr>\n",
       "      <th>353</th>\n",
       "      <td>闵行</td>\n",
       "      <td>整租</td>\n",
       "      <td>791.0</td>\n",
       "      <td>38.0</td>\n",
       "      <td>高端房源</td>\n",
       "      <td>6845</td>\n",
       "    </tr>\n",
       "    <tr>\n",
       "      <th>13561</th>\n",
       "      <td>宝山</td>\n",
       "      <td>合租</td>\n",
       "      <td>1163.0</td>\n",
       "      <td>12.0</td>\n",
       "      <td>交通一般普通</td>\n",
       "      <td>1925</td>\n",
       "    </tr>\n",
       "    <tr>\n",
       "      <th>12971</th>\n",
       "      <td>长宁</td>\n",
       "      <td>合租</td>\n",
       "      <td>716.0</td>\n",
       "      <td>11.2</td>\n",
       "      <td>交通便利普通</td>\n",
       "      <td>18044</td>\n",
       "    </tr>\n",
       "    <tr>\n",
       "      <th>11094</th>\n",
       "      <td>嘉定</td>\n",
       "      <td>合租</td>\n",
       "      <td>1047.0</td>\n",
       "      <td>11.8</td>\n",
       "      <td>交通一般普通</td>\n",
       "      <td>3378</td>\n",
       "    </tr>\n",
       "    <tr>\n",
       "      <th>8192</th>\n",
       "      <td>青浦</td>\n",
       "      <td>合租</td>\n",
       "      <td>960.0</td>\n",
       "      <td>14.8</td>\n",
       "      <td>交通一般普通</td>\n",
       "      <td>1804</td>\n",
       "    </tr>\n",
       "  </tbody>\n",
       "</table>\n",
       "</div>"
      ],
      "text/plain": [
       "      district type  metro_num     S    聚类类别  density\n",
       "353         闵行   整租      791.0  38.0    高端房源     6845\n",
       "13561       宝山   合租     1163.0  12.0  交通一般普通     1925\n",
       "12971       长宁   合租      716.0  11.2  交通便利普通    18044\n",
       "11094       嘉定   合租     1047.0  11.8  交通一般普通     3378\n",
       "8192        青浦   合租      960.0  14.8  交通一般普通     1804"
      ]
     },
     "execution_count": 193,
     "metadata": {},
     "output_type": "execute_result"
    }
   ],
   "source": [
    "housing_test = test_set.drop(\"mon_price\",axis=1)\n",
    "housing_test.head()"
   ]
  },
  {
   "cell_type": "code",
   "execution_count": 197,
   "metadata": {},
   "outputs": [],
   "source": [
    "#price_label_test = test_set['mon_price'].values\n",
    "#price_label_test"
   ]
  },
  {
   "cell_type": "code",
   "execution_count": 198,
   "metadata": {},
   "outputs": [
    {
     "name": "stderr",
     "output_type": "stream",
     "text": [
      "C:\\Users\\13626\\Anaconda3\\lib\\site-packages\\sklearn\\pipeline.py:605: DataConversionWarning: Data with input dtype int64, float64 were all converted to float64 by StandardScaler.\n",
      "  res = transformer.transform(X)\n"
     ]
    }
   ],
   "source": [
    "final_model = grid_search.best_estimator_\n",
    "\n",
    "housing_test_x = test_set.drop(\"mon_price\", axis=1)\n",
    "housing_test_y = test_set['mon_price'].copy()\n",
    "\n",
    "housing_test_prepared = full_pipeline.transform(housing_test_x)\n",
    "final_predictions = final_model.predict(housing_test_prepared)\n",
    "\n",
    "final_mse = mean_squared_error(housing_test_y, final_predictions)\n",
    "final_rmse = np.sqrt(final_mse)"
   ]
  },
  {
   "cell_type": "code",
   "execution_count": 199,
   "metadata": {},
   "outputs": [
    {
     "data": {
      "text/plain": [
       "443.06423447086684"
      ]
     },
     "execution_count": 199,
     "metadata": {},
     "output_type": "execute_result"
    }
   ],
   "source": [
    "final_rmse"
   ]
  },
  {
   "cell_type": "markdown",
   "metadata": {},
   "source": [
    "可以看出，**训练集**与**测试集**上的验证误差**很接近**，训练得到的模型在测试集上的表现也很好，模型拟合较好。"
   ]
  },
  {
   "cell_type": "markdown",
   "metadata": {},
   "source": [
    "---"
   ]
  }
 ],
 "metadata": {
  "kernelspec": {
   "display_name": "Python 3",
   "language": "python",
   "name": "python3"
  },
  "language_info": {
   "codemirror_mode": {
    "name": "ipython",
    "version": 3
   },
   "file_extension": ".py",
   "mimetype": "text/x-python",
   "name": "python",
   "nbconvert_exporter": "python",
   "pygments_lexer": "ipython3",
   "version": "3.6.3"
  }
 },
 "nbformat": 4,
 "nbformat_minor": 2
}
